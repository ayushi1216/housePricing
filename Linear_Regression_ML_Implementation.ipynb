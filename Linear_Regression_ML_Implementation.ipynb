{
  "cells": [
    {
      "cell_type": "code",
      "execution_count": 7,
      "metadata": {},
      "outputs": [
        {
          "name": "stdout",
          "output_type": "stream",
          "text": [
            "Hello radha\n"
          ]
        }
      ],
      "source": [
        "print('Hello radha')"
      ]
    },
    {
      "cell_type": "code",
      "execution_count": 1,
      "metadata": {
        "id": "2lbqW49R6nq4"
      },
      "outputs": [],
      "source": [
        "import pandas as pd\n",
        "import numpy as np\n",
        "import matplotlib.pyplot as plt\n",
        "%matplotlib inline"
      ]
    },
    {
      "cell_type": "markdown",
      "metadata": {
        "id": "uGKZKF-N7Aqh"
      },
      "source": [
        "**Lets Load the Boston House Pricing Dataset**"
      ]
    },
    {
      "cell_type": "code",
      "execution_count": 2,
      "metadata": {
        "id": "bkCUERib7JBR"
      },
      "outputs": [],
      "source": [
        "from sklearn.datasets import fetch_california_housing"
      ]
    },
    {
      "cell_type": "code",
      "execution_count": 3,
      "metadata": {
        "id": "t52Y0vAK7MNG"
      },
      "outputs": [],
      "source": [
        "whole_housing =  fetch_california_housing(as_frame=True)"
      ]
    },
    {
      "cell_type": "code",
      "execution_count": 4,
      "metadata": {
        "colab": {
          "base_uri": "https://localhost:8080/"
        },
        "id": "sH48YjfHGV_U",
        "outputId": "c2c5b067-1c9e-468a-eecc-663918dde333"
      },
      "outputs": [
        {
          "data": {
            "text/plain": [
              "dict_keys(['data', 'target', 'frame', 'target_names', 'feature_names', 'DESCR'])"
            ]
          },
          "execution_count": 4,
          "metadata": {},
          "output_type": "execute_result"
        }
      ],
      "source": [
        "whole_housing.keys()\n"
      ]
    },
    {
      "cell_type": "code",
      "execution_count": 5,
      "metadata": {
        "colab": {
          "base_uri": "https://localhost:8080/"
        },
        "id": "dWpgESPuGYo_",
        "outputId": "e6d1424e-21d1-44d6-d9ee-e107c6e6389b"
      },
      "outputs": [
        {
          "name": "stdout",
          "output_type": "stream",
          "text": [
            ".. _california_housing_dataset:\n",
            "\n",
            "California Housing dataset\n",
            "--------------------------\n",
            "\n",
            "**Data Set Characteristics:**\n",
            "\n",
            ":Number of Instances: 20640\n",
            "\n",
            ":Number of Attributes: 8 numeric, predictive attributes and the target\n",
            "\n",
            ":Attribute Information:\n",
            "    - MedInc        median income in block group\n",
            "    - HouseAge      median house age in block group\n",
            "    - AveRooms      average number of rooms per household\n",
            "    - AveBedrms     average number of bedrooms per household\n",
            "    - Population    block group population\n",
            "    - AveOccup      average number of household members\n",
            "    - Latitude      block group latitude\n",
            "    - Longitude     block group longitude\n",
            "\n",
            ":Missing Attribute Values: None\n",
            "\n",
            "This dataset was obtained from the StatLib repository.\n",
            "https://www.dcc.fc.up.pt/~ltorgo/Regression/cal_housing.html\n",
            "\n",
            "The target variable is the median house value for California districts,\n",
            "expressed in hundreds of thousands of dollars ($100,000).\n",
            "\n",
            "This dataset was derived from the 1990 U.S. census, using one row per census\n",
            "block group. A block group is the smallest geographical unit for which the U.S.\n",
            "Census Bureau publishes sample data (a block group typically has a population\n",
            "of 600 to 3,000 people).\n",
            "\n",
            "A household is a group of people residing within a home. Since the average\n",
            "number of rooms and bedrooms in this dataset are provided per household, these\n",
            "columns may take surprisingly large values for block groups with few households\n",
            "and many empty houses, such as vacation resorts.\n",
            "\n",
            "It can be downloaded/loaded using the\n",
            ":func:`sklearn.datasets.fetch_california_housing` function.\n",
            "\n",
            ".. rubric:: References\n",
            "\n",
            "- Pace, R. Kelley and Ronald Barry, Sparse Spatial Autoregressions,\n",
            "  Statistics and Probability Letters, 33:291-297, 1997.\n",
            "\n"
          ]
        }
      ],
      "source": [
        "# Lets check the description of the dataset\n",
        "\n",
        "print(whole_housing.DESCR)"
      ]
    },
    {
      "cell_type": "code",
      "execution_count": 6,
      "metadata": {
        "colab": {
          "base_uri": "https://localhost:8080/"
        },
        "id": "pibwqFREGoxN",
        "outputId": "90946ced-ef87-4e2d-9fe2-262dec906ea0"
      },
      "outputs": [
        {
          "name": "stdout",
          "output_type": "stream",
          "text": [
            "       MedInc  HouseAge  AveRooms  AveBedrms  Population  AveOccup  Latitude  \\\n",
            "0      8.3252      41.0  6.984127   1.023810       322.0  2.555556     37.88   \n",
            "1      8.3014      21.0  6.238137   0.971880      2401.0  2.109842     37.86   \n",
            "2      7.2574      52.0  8.288136   1.073446       496.0  2.802260     37.85   \n",
            "3      5.6431      52.0  5.817352   1.073059       558.0  2.547945     37.85   \n",
            "4      3.8462      52.0  6.281853   1.081081       565.0  2.181467     37.85   \n",
            "...       ...       ...       ...        ...         ...       ...       ...   \n",
            "20635  1.5603      25.0  5.045455   1.133333       845.0  2.560606     39.48   \n",
            "20636  2.5568      18.0  6.114035   1.315789       356.0  3.122807     39.49   \n",
            "20637  1.7000      17.0  5.205543   1.120092      1007.0  2.325635     39.43   \n",
            "20638  1.8672      18.0  5.329513   1.171920       741.0  2.123209     39.43   \n",
            "20639  2.3886      16.0  5.254717   1.162264      1387.0  2.616981     39.37   \n",
            "\n",
            "       Longitude  \n",
            "0        -122.23  \n",
            "1        -122.22  \n",
            "2        -122.24  \n",
            "3        -122.25  \n",
            "4        -122.25  \n",
            "...          ...  \n",
            "20635    -121.09  \n",
            "20636    -121.21  \n",
            "20637    -121.22  \n",
            "20638    -121.32  \n",
            "20639    -121.24  \n",
            "\n",
            "[20640 rows x 8 columns]\n"
          ]
        }
      ],
      "source": [
        "print(whole_housing.data)"
      ]
    },
    {
      "cell_type": "code",
      "execution_count": 9,
      "metadata": {
        "id": "JNP9D4gLAp1c"
      },
      "outputs": [],
      "source": [
        "df = whole_housing.frame"
      ]
    },
    {
      "cell_type": "code",
      "execution_count": 10,
      "metadata": {
        "id": "LstU2BPm_zST"
      },
      "outputs": [],
      "source": [
        "housing = df.sample(n=600, random_state=42)"
      ]
    },
    {
      "cell_type": "code",
      "execution_count": 11,
      "metadata": {
        "colab": {
          "base_uri": "https://localhost:8080/"
        },
        "id": "NCIji4wIBvsG",
        "outputId": "b09bb4ad-dca8-4824-a87e-ae8db90dc9ed"
      },
      "outputs": [
        {
          "data": {
            "text/plain": [
              "Index(['MedInc', 'HouseAge', 'AveRooms', 'AveBedrms', 'Population', 'AveOccup',\n",
              "       'Latitude', 'Longitude', 'MedHouseVal'],\n",
              "      dtype='object')"
            ]
          },
          "execution_count": 11,
          "metadata": {},
          "output_type": "execute_result"
        }
      ],
      "source": [
        "housing.keys()"
      ]
    },
    {
      "cell_type": "markdown",
      "metadata": {
        "id": "CAeYc8mj9QGR"
      },
      "source": [
        "**Preparing the Dataset**"
      ]
    },
    {
      "cell_type": "code",
      "execution_count": 12,
      "metadata": {
        "colab": {
          "base_uri": "https://localhost:8080/",
          "height": 423
        },
        "id": "FIfOVGVIHz0u",
        "outputId": "7664b7f0-9b15-4212-84a9-373757bf744d"
      },
      "outputs": [
        {
          "data": {
            "text/html": [
              "<div>\n",
              "<style scoped>\n",
              "    .dataframe tbody tr th:only-of-type {\n",
              "        vertical-align: middle;\n",
              "    }\n",
              "\n",
              "    .dataframe tbody tr th {\n",
              "        vertical-align: top;\n",
              "    }\n",
              "\n",
              "    .dataframe thead th {\n",
              "        text-align: right;\n",
              "    }\n",
              "</style>\n",
              "<table border=\"1\" class=\"dataframe\">\n",
              "  <thead>\n",
              "    <tr style=\"text-align: right;\">\n",
              "      <th></th>\n",
              "      <th>MedInc</th>\n",
              "      <th>HouseAge</th>\n",
              "      <th>AveRooms</th>\n",
              "      <th>AveBedrms</th>\n",
              "      <th>Population</th>\n",
              "      <th>AveOccup</th>\n",
              "      <th>Latitude</th>\n",
              "      <th>Longitude</th>\n",
              "      <th>MedHouseVal</th>\n",
              "    </tr>\n",
              "  </thead>\n",
              "  <tbody>\n",
              "    <tr>\n",
              "      <th>20046</th>\n",
              "      <td>1.6812</td>\n",
              "      <td>25.0</td>\n",
              "      <td>4.192201</td>\n",
              "      <td>1.022284</td>\n",
              "      <td>1392.0</td>\n",
              "      <td>3.877437</td>\n",
              "      <td>36.06</td>\n",
              "      <td>-119.01</td>\n",
              "      <td>0.47700</td>\n",
              "    </tr>\n",
              "    <tr>\n",
              "      <th>3024</th>\n",
              "      <td>2.5313</td>\n",
              "      <td>30.0</td>\n",
              "      <td>5.039384</td>\n",
              "      <td>1.193493</td>\n",
              "      <td>1565.0</td>\n",
              "      <td>2.679795</td>\n",
              "      <td>35.14</td>\n",
              "      <td>-119.46</td>\n",
              "      <td>0.45800</td>\n",
              "    </tr>\n",
              "    <tr>\n",
              "      <th>15663</th>\n",
              "      <td>3.4801</td>\n",
              "      <td>52.0</td>\n",
              "      <td>3.977155</td>\n",
              "      <td>1.185877</td>\n",
              "      <td>1310.0</td>\n",
              "      <td>1.360332</td>\n",
              "      <td>37.80</td>\n",
              "      <td>-122.44</td>\n",
              "      <td>5.00001</td>\n",
              "    </tr>\n",
              "    <tr>\n",
              "      <th>20484</th>\n",
              "      <td>5.7376</td>\n",
              "      <td>17.0</td>\n",
              "      <td>6.163636</td>\n",
              "      <td>1.020202</td>\n",
              "      <td>1705.0</td>\n",
              "      <td>3.444444</td>\n",
              "      <td>34.28</td>\n",
              "      <td>-118.72</td>\n",
              "      <td>2.18600</td>\n",
              "    </tr>\n",
              "    <tr>\n",
              "      <th>9814</th>\n",
              "      <td>3.7250</td>\n",
              "      <td>34.0</td>\n",
              "      <td>5.492991</td>\n",
              "      <td>1.028037</td>\n",
              "      <td>1063.0</td>\n",
              "      <td>2.483645</td>\n",
              "      <td>36.62</td>\n",
              "      <td>-121.93</td>\n",
              "      <td>2.78000</td>\n",
              "    </tr>\n",
              "    <tr>\n",
              "      <th>...</th>\n",
              "      <td>...</td>\n",
              "      <td>...</td>\n",
              "      <td>...</td>\n",
              "      <td>...</td>\n",
              "      <td>...</td>\n",
              "      <td>...</td>\n",
              "      <td>...</td>\n",
              "      <td>...</td>\n",
              "      <td>...</td>\n",
              "    </tr>\n",
              "    <tr>\n",
              "      <th>20493</th>\n",
              "      <td>6.0783</td>\n",
              "      <td>23.0</td>\n",
              "      <td>5.633987</td>\n",
              "      <td>0.866013</td>\n",
              "      <td>934.0</td>\n",
              "      <td>3.052288</td>\n",
              "      <td>34.27</td>\n",
              "      <td>-118.65</td>\n",
              "      <td>2.29200</td>\n",
              "    </tr>\n",
              "    <tr>\n",
              "      <th>2305</th>\n",
              "      <td>4.7804</td>\n",
              "      <td>19.0</td>\n",
              "      <td>6.347059</td>\n",
              "      <td>0.994118</td>\n",
              "      <td>1378.0</td>\n",
              "      <td>2.701961</td>\n",
              "      <td>36.83</td>\n",
              "      <td>-119.77</td>\n",
              "      <td>1.01100</td>\n",
              "    </tr>\n",
              "    <tr>\n",
              "      <th>9071</th>\n",
              "      <td>2.5278</td>\n",
              "      <td>35.0</td>\n",
              "      <td>5.010000</td>\n",
              "      <td>1.030000</td>\n",
              "      <td>842.0</td>\n",
              "      <td>2.806667</td>\n",
              "      <td>34.71</td>\n",
              "      <td>-118.15</td>\n",
              "      <td>0.97700</td>\n",
              "    </tr>\n",
              "    <tr>\n",
              "      <th>4445</th>\n",
              "      <td>1.7463</td>\n",
              "      <td>36.0</td>\n",
              "      <td>3.424490</td>\n",
              "      <td>1.020408</td>\n",
              "      <td>1079.0</td>\n",
              "      <td>4.404082</td>\n",
              "      <td>34.07</td>\n",
              "      <td>-118.22</td>\n",
              "      <td>1.58300</td>\n",
              "    </tr>\n",
              "    <tr>\n",
              "      <th>1535</th>\n",
              "      <td>7.5349</td>\n",
              "      <td>33.0</td>\n",
              "      <td>7.002890</td>\n",
              "      <td>0.930636</td>\n",
              "      <td>998.0</td>\n",
              "      <td>2.884393</td>\n",
              "      <td>37.89</td>\n",
              "      <td>-122.04</td>\n",
              "      <td>3.49100</td>\n",
              "    </tr>\n",
              "  </tbody>\n",
              "</table>\n",
              "<p>600 rows × 9 columns</p>\n",
              "</div>"
            ],
            "text/plain": [
              "       MedInc  HouseAge  AveRooms  AveBedrms  Population  AveOccup  Latitude  \\\n",
              "20046  1.6812      25.0  4.192201   1.022284      1392.0  3.877437     36.06   \n",
              "3024   2.5313      30.0  5.039384   1.193493      1565.0  2.679795     35.14   \n",
              "15663  3.4801      52.0  3.977155   1.185877      1310.0  1.360332     37.80   \n",
              "20484  5.7376      17.0  6.163636   1.020202      1705.0  3.444444     34.28   \n",
              "9814   3.7250      34.0  5.492991   1.028037      1063.0  2.483645     36.62   \n",
              "...       ...       ...       ...        ...         ...       ...       ...   \n",
              "20493  6.0783      23.0  5.633987   0.866013       934.0  3.052288     34.27   \n",
              "2305   4.7804      19.0  6.347059   0.994118      1378.0  2.701961     36.83   \n",
              "9071   2.5278      35.0  5.010000   1.030000       842.0  2.806667     34.71   \n",
              "4445   1.7463      36.0  3.424490   1.020408      1079.0  4.404082     34.07   \n",
              "1535   7.5349      33.0  7.002890   0.930636       998.0  2.884393     37.89   \n",
              "\n",
              "       Longitude  MedHouseVal  \n",
              "20046    -119.01      0.47700  \n",
              "3024     -119.46      0.45800  \n",
              "15663    -122.44      5.00001  \n",
              "20484    -118.72      2.18600  \n",
              "9814     -121.93      2.78000  \n",
              "...          ...          ...  \n",
              "20493    -118.65      2.29200  \n",
              "2305     -119.77      1.01100  \n",
              "9071     -118.15      0.97700  \n",
              "4445     -118.22      1.58300  \n",
              "1535     -122.04      3.49100  \n",
              "\n",
              "[600 rows x 9 columns]"
            ]
          },
          "execution_count": 12,
          "metadata": {},
          "output_type": "execute_result"
        }
      ],
      "source": [
        "housing"
      ]
    },
    {
      "cell_type": "code",
      "execution_count": 13,
      "metadata": {
        "colab": {
          "base_uri": "https://localhost:8080/"
        },
        "id": "ZkgUnmSoH14-",
        "outputId": "35f95364-a3a7-469e-e435-eacb75c711bc"
      },
      "outputs": [
        {
          "name": "stdout",
          "output_type": "stream",
          "text": [
            "<class 'pandas.core.frame.DataFrame'>\n",
            "Index: 600 entries, 20046 to 1535\n",
            "Data columns (total 9 columns):\n",
            " #   Column       Non-Null Count  Dtype  \n",
            "---  ------       --------------  -----  \n",
            " 0   MedInc       600 non-null    float64\n",
            " 1   HouseAge     600 non-null    float64\n",
            " 2   AveRooms     600 non-null    float64\n",
            " 3   AveBedrms    600 non-null    float64\n",
            " 4   Population   600 non-null    float64\n",
            " 5   AveOccup     600 non-null    float64\n",
            " 6   Latitude     600 non-null    float64\n",
            " 7   Longitude    600 non-null    float64\n",
            " 8   MedHouseVal  600 non-null    float64\n",
            "dtypes: float64(9)\n",
            "memory usage: 46.9 KB\n"
          ]
        }
      ],
      "source": [
        "housing.info()"
      ]
    },
    {
      "cell_type": "code",
      "execution_count": 14,
      "metadata": {
        "colab": {
          "base_uri": "https://localhost:8080/",
          "height": 206
        },
        "id": "RcRLAevo9gED",
        "outputId": "a5293068-50be-4ee2-f2ef-d046ddedbab3"
      },
      "outputs": [
        {
          "data": {
            "text/html": [
              "<div>\n",
              "<style scoped>\n",
              "    .dataframe tbody tr th:only-of-type {\n",
              "        vertical-align: middle;\n",
              "    }\n",
              "\n",
              "    .dataframe tbody tr th {\n",
              "        vertical-align: top;\n",
              "    }\n",
              "\n",
              "    .dataframe thead th {\n",
              "        text-align: right;\n",
              "    }\n",
              "</style>\n",
              "<table border=\"1\" class=\"dataframe\">\n",
              "  <thead>\n",
              "    <tr style=\"text-align: right;\">\n",
              "      <th></th>\n",
              "      <th>MedInc</th>\n",
              "      <th>HouseAge</th>\n",
              "      <th>AveRooms</th>\n",
              "      <th>AveBedrms</th>\n",
              "      <th>Population</th>\n",
              "      <th>AveOccup</th>\n",
              "      <th>Latitude</th>\n",
              "      <th>Longitude</th>\n",
              "      <th>MedHouseVal</th>\n",
              "    </tr>\n",
              "  </thead>\n",
              "  <tbody>\n",
              "    <tr>\n",
              "      <th>20046</th>\n",
              "      <td>1.6812</td>\n",
              "      <td>25.0</td>\n",
              "      <td>4.192201</td>\n",
              "      <td>1.022284</td>\n",
              "      <td>1392.0</td>\n",
              "      <td>3.877437</td>\n",
              "      <td>36.06</td>\n",
              "      <td>-119.01</td>\n",
              "      <td>0.47700</td>\n",
              "    </tr>\n",
              "    <tr>\n",
              "      <th>3024</th>\n",
              "      <td>2.5313</td>\n",
              "      <td>30.0</td>\n",
              "      <td>5.039384</td>\n",
              "      <td>1.193493</td>\n",
              "      <td>1565.0</td>\n",
              "      <td>2.679795</td>\n",
              "      <td>35.14</td>\n",
              "      <td>-119.46</td>\n",
              "      <td>0.45800</td>\n",
              "    </tr>\n",
              "    <tr>\n",
              "      <th>15663</th>\n",
              "      <td>3.4801</td>\n",
              "      <td>52.0</td>\n",
              "      <td>3.977155</td>\n",
              "      <td>1.185877</td>\n",
              "      <td>1310.0</td>\n",
              "      <td>1.360332</td>\n",
              "      <td>37.80</td>\n",
              "      <td>-122.44</td>\n",
              "      <td>5.00001</td>\n",
              "    </tr>\n",
              "    <tr>\n",
              "      <th>20484</th>\n",
              "      <td>5.7376</td>\n",
              "      <td>17.0</td>\n",
              "      <td>6.163636</td>\n",
              "      <td>1.020202</td>\n",
              "      <td>1705.0</td>\n",
              "      <td>3.444444</td>\n",
              "      <td>34.28</td>\n",
              "      <td>-118.72</td>\n",
              "      <td>2.18600</td>\n",
              "    </tr>\n",
              "    <tr>\n",
              "      <th>9814</th>\n",
              "      <td>3.7250</td>\n",
              "      <td>34.0</td>\n",
              "      <td>5.492991</td>\n",
              "      <td>1.028037</td>\n",
              "      <td>1063.0</td>\n",
              "      <td>2.483645</td>\n",
              "      <td>36.62</td>\n",
              "      <td>-121.93</td>\n",
              "      <td>2.78000</td>\n",
              "    </tr>\n",
              "  </tbody>\n",
              "</table>\n",
              "</div>"
            ],
            "text/plain": [
              "       MedInc  HouseAge  AveRooms  AveBedrms  Population  AveOccup  Latitude  \\\n",
              "20046  1.6812      25.0  4.192201   1.022284      1392.0  3.877437     36.06   \n",
              "3024   2.5313      30.0  5.039384   1.193493      1565.0  2.679795     35.14   \n",
              "15663  3.4801      52.0  3.977155   1.185877      1310.0  1.360332     37.80   \n",
              "20484  5.7376      17.0  6.163636   1.020202      1705.0  3.444444     34.28   \n",
              "9814   3.7250      34.0  5.492991   1.028037      1063.0  2.483645     36.62   \n",
              "\n",
              "       Longitude  MedHouseVal  \n",
              "20046    -119.01      0.47700  \n",
              "3024     -119.46      0.45800  \n",
              "15663    -122.44      5.00001  \n",
              "20484    -118.72      2.18600  \n",
              "9814     -121.93      2.78000  "
            ]
          },
          "execution_count": 14,
          "metadata": {},
          "output_type": "execute_result"
        }
      ],
      "source": [
        "housing.head()"
      ]
    },
    {
      "cell_type": "code",
      "execution_count": 15,
      "metadata": {
        "colab": {
          "base_uri": "https://localhost:8080/",
          "height": 366
        },
        "id": "sC6NDPDn-aD2",
        "outputId": "5f0add92-d3ea-44f2-d46e-b1e690e02618"
      },
      "outputs": [
        {
          "data": {
            "text/plain": [
              "MedInc         0\n",
              "HouseAge       0\n",
              "AveRooms       0\n",
              "AveBedrms      0\n",
              "Population     0\n",
              "AveOccup       0\n",
              "Latitude       0\n",
              "Longitude      0\n",
              "MedHouseVal    0\n",
              "dtype: int64"
            ]
          },
          "execution_count": 15,
          "metadata": {},
          "output_type": "execute_result"
        }
      ],
      "source": [
        "# Check the missing values\n",
        "\n",
        "housing.isnull().sum()"
      ]
    },
    {
      "cell_type": "code",
      "execution_count": 16,
      "metadata": {
        "colab": {
          "base_uri": "https://localhost:8080/",
          "height": 331
        },
        "id": "8aeFm2Ad-rE1",
        "outputId": "9bc27888-5d3c-41e0-cb10-4136721f661b"
      },
      "outputs": [
        {
          "data": {
            "text/html": [
              "<div>\n",
              "<style scoped>\n",
              "    .dataframe tbody tr th:only-of-type {\n",
              "        vertical-align: middle;\n",
              "    }\n",
              "\n",
              "    .dataframe tbody tr th {\n",
              "        vertical-align: top;\n",
              "    }\n",
              "\n",
              "    .dataframe thead th {\n",
              "        text-align: right;\n",
              "    }\n",
              "</style>\n",
              "<table border=\"1\" class=\"dataframe\">\n",
              "  <thead>\n",
              "    <tr style=\"text-align: right;\">\n",
              "      <th></th>\n",
              "      <th>MedInc</th>\n",
              "      <th>HouseAge</th>\n",
              "      <th>AveRooms</th>\n",
              "      <th>AveBedrms</th>\n",
              "      <th>Population</th>\n",
              "      <th>AveOccup</th>\n",
              "      <th>Latitude</th>\n",
              "      <th>Longitude</th>\n",
              "      <th>MedHouseVal</th>\n",
              "    </tr>\n",
              "  </thead>\n",
              "  <tbody>\n",
              "    <tr>\n",
              "      <th>MedInc</th>\n",
              "      <td>1.000000</td>\n",
              "      <td>-0.094150</td>\n",
              "      <td>0.472021</td>\n",
              "      <td>-0.037310</td>\n",
              "      <td>0.000656</td>\n",
              "      <td>-0.070151</td>\n",
              "      <td>-0.094380</td>\n",
              "      <td>-0.000399</td>\n",
              "      <td>0.698117</td>\n",
              "    </tr>\n",
              "    <tr>\n",
              "      <th>HouseAge</th>\n",
              "      <td>-0.094150</td>\n",
              "      <td>1.000000</td>\n",
              "      <td>-0.170045</td>\n",
              "      <td>-0.104846</td>\n",
              "      <td>-0.360020</td>\n",
              "      <td>0.052068</td>\n",
              "      <td>-0.014150</td>\n",
              "      <td>-0.086369</td>\n",
              "      <td>0.086669</td>\n",
              "    </tr>\n",
              "    <tr>\n",
              "      <th>AveRooms</th>\n",
              "      <td>0.472021</td>\n",
              "      <td>-0.170045</td>\n",
              "      <td>1.000000</td>\n",
              "      <td>0.735895</td>\n",
              "      <td>-0.065681</td>\n",
              "      <td>-0.050272</td>\n",
              "      <td>0.164874</td>\n",
              "      <td>-0.074692</td>\n",
              "      <td>0.254467</td>\n",
              "    </tr>\n",
              "    <tr>\n",
              "      <th>AveBedrms</th>\n",
              "      <td>-0.037310</td>\n",
              "      <td>-0.104846</td>\n",
              "      <td>0.735895</td>\n",
              "      <td>1.000000</td>\n",
              "      <td>-0.042871</td>\n",
              "      <td>-0.087086</td>\n",
              "      <td>0.136877</td>\n",
              "      <td>-0.024977</td>\n",
              "      <td>-0.014174</td>\n",
              "    </tr>\n",
              "    <tr>\n",
              "      <th>Population</th>\n",
              "      <td>0.000656</td>\n",
              "      <td>-0.360020</td>\n",
              "      <td>-0.065681</td>\n",
              "      <td>-0.042871</td>\n",
              "      <td>1.000000</td>\n",
              "      <td>0.100770</td>\n",
              "      <td>-0.086912</td>\n",
              "      <td>0.084767</td>\n",
              "      <td>-0.021122</td>\n",
              "    </tr>\n",
              "    <tr>\n",
              "      <th>AveOccup</th>\n",
              "      <td>-0.070151</td>\n",
              "      <td>0.052068</td>\n",
              "      <td>-0.050272</td>\n",
              "      <td>-0.087086</td>\n",
              "      <td>0.100770</td>\n",
              "      <td>1.000000</td>\n",
              "      <td>-0.158875</td>\n",
              "      <td>0.178237</td>\n",
              "      <td>-0.297620</td>\n",
              "    </tr>\n",
              "    <tr>\n",
              "      <th>Latitude</th>\n",
              "      <td>-0.094380</td>\n",
              "      <td>-0.014150</td>\n",
              "      <td>0.164874</td>\n",
              "      <td>0.136877</td>\n",
              "      <td>-0.086912</td>\n",
              "      <td>-0.158875</td>\n",
              "      <td>1.000000</td>\n",
              "      <td>-0.916477</td>\n",
              "      <td>-0.139979</td>\n",
              "    </tr>\n",
              "    <tr>\n",
              "      <th>Longitude</th>\n",
              "      <td>-0.000399</td>\n",
              "      <td>-0.086369</td>\n",
              "      <td>-0.074692</td>\n",
              "      <td>-0.024977</td>\n",
              "      <td>0.084767</td>\n",
              "      <td>0.178237</td>\n",
              "      <td>-0.916477</td>\n",
              "      <td>1.000000</td>\n",
              "      <td>-0.061718</td>\n",
              "    </tr>\n",
              "    <tr>\n",
              "      <th>MedHouseVal</th>\n",
              "      <td>0.698117</td>\n",
              "      <td>0.086669</td>\n",
              "      <td>0.254467</td>\n",
              "      <td>-0.014174</td>\n",
              "      <td>-0.021122</td>\n",
              "      <td>-0.297620</td>\n",
              "      <td>-0.139979</td>\n",
              "      <td>-0.061718</td>\n",
              "      <td>1.000000</td>\n",
              "    </tr>\n",
              "  </tbody>\n",
              "</table>\n",
              "</div>"
            ],
            "text/plain": [
              "               MedInc  HouseAge  AveRooms  AveBedrms  Population  AveOccup  \\\n",
              "MedInc       1.000000 -0.094150  0.472021  -0.037310    0.000656 -0.070151   \n",
              "HouseAge    -0.094150  1.000000 -0.170045  -0.104846   -0.360020  0.052068   \n",
              "AveRooms     0.472021 -0.170045  1.000000   0.735895   -0.065681 -0.050272   \n",
              "AveBedrms   -0.037310 -0.104846  0.735895   1.000000   -0.042871 -0.087086   \n",
              "Population   0.000656 -0.360020 -0.065681  -0.042871    1.000000  0.100770   \n",
              "AveOccup    -0.070151  0.052068 -0.050272  -0.087086    0.100770  1.000000   \n",
              "Latitude    -0.094380 -0.014150  0.164874   0.136877   -0.086912 -0.158875   \n",
              "Longitude   -0.000399 -0.086369 -0.074692  -0.024977    0.084767  0.178237   \n",
              "MedHouseVal  0.698117  0.086669  0.254467  -0.014174   -0.021122 -0.297620   \n",
              "\n",
              "             Latitude  Longitude  MedHouseVal  \n",
              "MedInc      -0.094380  -0.000399     0.698117  \n",
              "HouseAge    -0.014150  -0.086369     0.086669  \n",
              "AveRooms     0.164874  -0.074692     0.254467  \n",
              "AveBedrms    0.136877  -0.024977    -0.014174  \n",
              "Population  -0.086912   0.084767    -0.021122  \n",
              "AveOccup    -0.158875   0.178237    -0.297620  \n",
              "Latitude     1.000000  -0.916477    -0.139979  \n",
              "Longitude   -0.916477   1.000000    -0.061718  \n",
              "MedHouseVal -0.139979  -0.061718     1.000000  "
            ]
          },
          "execution_count": 16,
          "metadata": {},
          "output_type": "execute_result"
        }
      ],
      "source": [
        "#  Exploratory Data Analysis\n",
        "# Correlation\n",
        "housing.corr()"
      ]
    },
    {
      "cell_type": "code",
      "execution_count": null,
      "metadata": {
        "id": "xZoEWqxQPwDp"
      },
      "outputs": [],
      "source": [
        "# import seaborn as sns\n",
        "# sns.pairplot(housing)"
      ]
    },
    {
      "cell_type": "code",
      "execution_count": 17,
      "metadata": {
        "colab": {
          "base_uri": "https://localhost:8080/",
          "height": 466
        },
        "id": "_c2k_4KdQh5k",
        "outputId": "ae762b0a-0802-44d8-f5c2-8bc8332176ed"
      },
      "outputs": [
        {
          "data": {
            "text/plain": [
              "Text(0, 0.5, 'Price')"
            ]
          },
          "execution_count": 17,
          "metadata": {},
          "output_type": "execute_result"
        },
        {
          "data": {
            "image/png": "[encoded data removed]",
            "text/plain": [
              "<Figure size 640x480 with 1 Axes>"
            ]
          },
          "metadata": {},
          "output_type": "display_data"
        }
      ],
      "source": [
        "plt.scatter(housing['MedInc'], housing['MedHouseVal'])\n",
        "plt.xlabel('Median Income in block')\n",
        "plt.ylabel('Price')"
      ]
    },
    {
      "cell_type": "code",
      "execution_count": 19,
      "metadata": {
        "colab": {
          "base_uri": "https://localhost:8080/",
          "height": 466
        },
        "id": "aQkKqS2_S9tC",
        "outputId": "e420bc47-3c8c-4532-a68e-7cac4dced05a"
      },
      "outputs": [
        {
          "data": {
            "text/plain": [
              "<Axes: xlabel='MedInc', ylabel='MedHouseVal'>"
            ]
          },
          "execution_count": 19,
          "metadata": {},
          "output_type": "execute_result"
        },
        {
          "data": {
            "image/png": "[encoded data removed]",
            "text/plain": [
              "<Figure size 640x480 with 1 Axes>"
            ]
          },
          "metadata": {},
          "output_type": "display_data"
        }
      ],
      "source": [
        "import seaborn as sns\n",
        "# sns.regplot(x=\"MedInc\", y=\"MedHouseVal\", data= housing)\n",
        "\n",
        "# TO make it look cleaner\n",
        "\n",
        "sns.regplot(x=\"MedInc\", y=\"MedHouseVal\", data= housing, line_kws={\"color\":\"red\"})\n"
      ]
    },
    {
      "cell_type": "code",
      "execution_count": 20,
      "metadata": {
        "id": "9GRrbCXsX08f"
      },
      "outputs": [],
      "source": [
        "#  Independent and Dependent Features\n",
        "\n",
        "X = housing.iloc[:, :-1]\n",
        "y = housing.iloc[:, -1]"
      ]
    },
    {
      "cell_type": "code",
      "execution_count": 21,
      "metadata": {
        "colab": {
          "base_uri": "https://localhost:8080/",
          "height": 206
        },
        "id": "LAASlqHvZ20g",
        "outputId": "21a35223-8b55-45f9-f5fc-e765e27670c5"
      },
      "outputs": [
        {
          "data": {
            "text/html": [
              "<div>\n",
              "<style scoped>\n",
              "    .dataframe tbody tr th:only-of-type {\n",
              "        vertical-align: middle;\n",
              "    }\n",
              "\n",
              "    .dataframe tbody tr th {\n",
              "        vertical-align: top;\n",
              "    }\n",
              "\n",
              "    .dataframe thead th {\n",
              "        text-align: right;\n",
              "    }\n",
              "</style>\n",
              "<table border=\"1\" class=\"dataframe\">\n",
              "  <thead>\n",
              "    <tr style=\"text-align: right;\">\n",
              "      <th></th>\n",
              "      <th>MedInc</th>\n",
              "      <th>HouseAge</th>\n",
              "      <th>AveRooms</th>\n",
              "      <th>AveBedrms</th>\n",
              "      <th>Population</th>\n",
              "      <th>AveOccup</th>\n",
              "      <th>Latitude</th>\n",
              "      <th>Longitude</th>\n",
              "    </tr>\n",
              "  </thead>\n",
              "  <tbody>\n",
              "    <tr>\n",
              "      <th>20046</th>\n",
              "      <td>1.6812</td>\n",
              "      <td>25.0</td>\n",
              "      <td>4.192201</td>\n",
              "      <td>1.022284</td>\n",
              "      <td>1392.0</td>\n",
              "      <td>3.877437</td>\n",
              "      <td>36.06</td>\n",
              "      <td>-119.01</td>\n",
              "    </tr>\n",
              "    <tr>\n",
              "      <th>3024</th>\n",
              "      <td>2.5313</td>\n",
              "      <td>30.0</td>\n",
              "      <td>5.039384</td>\n",
              "      <td>1.193493</td>\n",
              "      <td>1565.0</td>\n",
              "      <td>2.679795</td>\n",
              "      <td>35.14</td>\n",
              "      <td>-119.46</td>\n",
              "    </tr>\n",
              "    <tr>\n",
              "      <th>15663</th>\n",
              "      <td>3.4801</td>\n",
              "      <td>52.0</td>\n",
              "      <td>3.977155</td>\n",
              "      <td>1.185877</td>\n",
              "      <td>1310.0</td>\n",
              "      <td>1.360332</td>\n",
              "      <td>37.80</td>\n",
              "      <td>-122.44</td>\n",
              "    </tr>\n",
              "    <tr>\n",
              "      <th>20484</th>\n",
              "      <td>5.7376</td>\n",
              "      <td>17.0</td>\n",
              "      <td>6.163636</td>\n",
              "      <td>1.020202</td>\n",
              "      <td>1705.0</td>\n",
              "      <td>3.444444</td>\n",
              "      <td>34.28</td>\n",
              "      <td>-118.72</td>\n",
              "    </tr>\n",
              "    <tr>\n",
              "      <th>9814</th>\n",
              "      <td>3.7250</td>\n",
              "      <td>34.0</td>\n",
              "      <td>5.492991</td>\n",
              "      <td>1.028037</td>\n",
              "      <td>1063.0</td>\n",
              "      <td>2.483645</td>\n",
              "      <td>36.62</td>\n",
              "      <td>-121.93</td>\n",
              "    </tr>\n",
              "  </tbody>\n",
              "</table>\n",
              "</div>"
            ],
            "text/plain": [
              "       MedInc  HouseAge  AveRooms  AveBedrms  Population  AveOccup  Latitude  \\\n",
              "20046  1.6812      25.0  4.192201   1.022284      1392.0  3.877437     36.06   \n",
              "3024   2.5313      30.0  5.039384   1.193493      1565.0  2.679795     35.14   \n",
              "15663  3.4801      52.0  3.977155   1.185877      1310.0  1.360332     37.80   \n",
              "20484  5.7376      17.0  6.163636   1.020202      1705.0  3.444444     34.28   \n",
              "9814   3.7250      34.0  5.492991   1.028037      1063.0  2.483645     36.62   \n",
              "\n",
              "       Longitude  \n",
              "20046    -119.01  \n",
              "3024     -119.46  \n",
              "15663    -122.44  \n",
              "20484    -118.72  \n",
              "9814     -121.93  "
            ]
          },
          "execution_count": 21,
          "metadata": {},
          "output_type": "execute_result"
        }
      ],
      "source": [
        "X.head()"
      ]
    },
    {
      "cell_type": "code",
      "execution_count": 23,
      "metadata": {
        "id": "ppm7jFbGZ7Gv"
      },
      "outputs": [],
      "source": [
        "# Train Test Split\n",
        "\n",
        "from sklearn.model_selection import train_test_split\n",
        "X_train, X_test, y_train, y_test = train_test_split(X,y,test_size=0.3, random_state=42)\n"
      ]
    },
    {
      "cell_type": "code",
      "execution_count": 25,
      "metadata": {
        "colab": {
          "base_uri": "https://localhost:8080/",
          "height": 423
        },
        "id": "yT0fxLL7bdG3",
        "outputId": "c83bfc09-1282-4169-d239-7e3a1eca3498"
      },
      "outputs": [
        {
          "data": {
            "text/html": [
              "<div>\n",
              "<style scoped>\n",
              "    .dataframe tbody tr th:only-of-type {\n",
              "        vertical-align: middle;\n",
              "    }\n",
              "\n",
              "    .dataframe tbody tr th {\n",
              "        vertical-align: top;\n",
              "    }\n",
              "\n",
              "    .dataframe thead th {\n",
              "        text-align: right;\n",
              "    }\n",
              "</style>\n",
              "<table border=\"1\" class=\"dataframe\">\n",
              "  <thead>\n",
              "    <tr style=\"text-align: right;\">\n",
              "      <th></th>\n",
              "      <th>MedInc</th>\n",
              "      <th>HouseAge</th>\n",
              "      <th>AveRooms</th>\n",
              "      <th>AveBedrms</th>\n",
              "      <th>Population</th>\n",
              "      <th>AveOccup</th>\n",
              "      <th>Latitude</th>\n",
              "      <th>Longitude</th>\n",
              "    </tr>\n",
              "  </thead>\n",
              "  <tbody>\n",
              "    <tr>\n",
              "      <th>17973</th>\n",
              "      <td>3.6292</td>\n",
              "      <td>27.0</td>\n",
              "      <td>4.636058</td>\n",
              "      <td>1.085106</td>\n",
              "      <td>2135.0</td>\n",
              "      <td>2.390817</td>\n",
              "      <td>37.31</td>\n",
              "      <td>-121.95</td>\n",
              "    </tr>\n",
              "    <tr>\n",
              "      <th>6887</th>\n",
              "      <td>3.2500</td>\n",
              "      <td>36.0</td>\n",
              "      <td>3.997268</td>\n",
              "      <td>1.008197</td>\n",
              "      <td>1492.0</td>\n",
              "      <td>4.076503</td>\n",
              "      <td>34.06</td>\n",
              "      <td>-118.10</td>\n",
              "    </tr>\n",
              "    <tr>\n",
              "      <th>1535</th>\n",
              "      <td>7.5349</td>\n",
              "      <td>33.0</td>\n",
              "      <td>7.002890</td>\n",
              "      <td>0.930636</td>\n",
              "      <td>998.0</td>\n",
              "      <td>2.884393</td>\n",
              "      <td>37.89</td>\n",
              "      <td>-122.04</td>\n",
              "    </tr>\n",
              "    <tr>\n",
              "      <th>3335</th>\n",
              "      <td>1.5739</td>\n",
              "      <td>16.0</td>\n",
              "      <td>5.914573</td>\n",
              "      <td>1.206030</td>\n",
              "      <td>519.0</td>\n",
              "      <td>2.608040</td>\n",
              "      <td>38.87</td>\n",
              "      <td>-122.64</td>\n",
              "    </tr>\n",
              "    <tr>\n",
              "      <th>18018</th>\n",
              "      <td>5.0863</td>\n",
              "      <td>30.0</td>\n",
              "      <td>5.478405</td>\n",
              "      <td>1.053156</td>\n",
              "      <td>1532.0</td>\n",
              "      <td>2.544850</td>\n",
              "      <td>37.25</td>\n",
              "      <td>-121.95</td>\n",
              "    </tr>\n",
              "    <tr>\n",
              "      <th>...</th>\n",
              "      <td>...</td>\n",
              "      <td>...</td>\n",
              "      <td>...</td>\n",
              "      <td>...</td>\n",
              "      <td>...</td>\n",
              "      <td>...</td>\n",
              "      <td>...</td>\n",
              "      <td>...</td>\n",
              "    </tr>\n",
              "    <tr>\n",
              "      <th>738</th>\n",
              "      <td>4.7933</td>\n",
              "      <td>37.0</td>\n",
              "      <td>6.000000</td>\n",
              "      <td>1.021544</td>\n",
              "      <td>1635.0</td>\n",
              "      <td>2.935368</td>\n",
              "      <td>37.67</td>\n",
              "      <td>-122.14</td>\n",
              "    </tr>\n",
              "    <tr>\n",
              "      <th>4279</th>\n",
              "      <td>1.8576</td>\n",
              "      <td>37.0</td>\n",
              "      <td>2.477564</td>\n",
              "      <td>1.006410</td>\n",
              "      <td>835.0</td>\n",
              "      <td>2.676282</td>\n",
              "      <td>34.09</td>\n",
              "      <td>-118.31</td>\n",
              "    </tr>\n",
              "    <tr>\n",
              "      <th>17108</th>\n",
              "      <td>15.0001</td>\n",
              "      <td>32.0</td>\n",
              "      <td>8.845041</td>\n",
              "      <td>1.035124</td>\n",
              "      <td>1318.0</td>\n",
              "      <td>2.723140</td>\n",
              "      <td>37.44</td>\n",
              "      <td>-122.22</td>\n",
              "    </tr>\n",
              "    <tr>\n",
              "      <th>119</th>\n",
              "      <td>5.2868</td>\n",
              "      <td>47.0</td>\n",
              "      <td>6.546392</td>\n",
              "      <td>0.936082</td>\n",
              "      <td>1098.0</td>\n",
              "      <td>2.263918</td>\n",
              "      <td>37.84</td>\n",
              "      <td>-122.23</td>\n",
              "    </tr>\n",
              "    <tr>\n",
              "      <th>14462</th>\n",
              "      <td>4.4250</td>\n",
              "      <td>26.0</td>\n",
              "      <td>5.123134</td>\n",
              "      <td>1.253731</td>\n",
              "      <td>608.0</td>\n",
              "      <td>2.268657</td>\n",
              "      <td>32.85</td>\n",
              "      <td>-117.27</td>\n",
              "    </tr>\n",
              "  </tbody>\n",
              "</table>\n",
              "<p>420 rows × 8 columns</p>\n",
              "</div>"
            ],
            "text/plain": [
              "        MedInc  HouseAge  AveRooms  AveBedrms  Population  AveOccup  Latitude  \\\n",
              "17973   3.6292      27.0  4.636058   1.085106      2135.0  2.390817     37.31   \n",
              "6887    3.2500      36.0  3.997268   1.008197      1492.0  4.076503     34.06   \n",
              "1535    7.5349      33.0  7.002890   0.930636       998.0  2.884393     37.89   \n",
              "3335    1.5739      16.0  5.914573   1.206030       519.0  2.608040     38.87   \n",
              "18018   5.0863      30.0  5.478405   1.053156      1532.0  2.544850     37.25   \n",
              "...        ...       ...       ...        ...         ...       ...       ...   \n",
              "738     4.7933      37.0  6.000000   1.021544      1635.0  2.935368     37.67   \n",
              "4279    1.8576      37.0  2.477564   1.006410       835.0  2.676282     34.09   \n",
              "17108  15.0001      32.0  8.845041   1.035124      1318.0  2.723140     37.44   \n",
              "119     5.2868      47.0  6.546392   0.936082      1098.0  2.263918     37.84   \n",
              "14462   4.4250      26.0  5.123134   1.253731       608.0  2.268657     32.85   \n",
              "\n",
              "       Longitude  \n",
              "17973    -121.95  \n",
              "6887     -118.10  \n",
              "1535     -122.04  \n",
              "3335     -122.64  \n",
              "18018    -121.95  \n",
              "...          ...  \n",
              "738      -122.14  \n",
              "4279     -118.31  \n",
              "17108    -122.22  \n",
              "119      -122.23  \n",
              "14462    -117.27  \n",
              "\n",
              "[420 rows x 8 columns]"
            ]
          },
          "execution_count": 25,
          "metadata": {},
          "output_type": "execute_result"
        }
      ],
      "source": [
        "X_train"
      ]
    },
    {
      "cell_type": "code",
      "execution_count": 26,
      "metadata": {
        "id": "-bI8ckZwbhRQ"
      },
      "outputs": [],
      "source": [
        "# Standardize the dataset\n",
        "# Standard Scaling\n",
        "from sklearn.preprocessing import StandardScaler\n",
        "scaler = StandardScaler()"
      ]
    },
    {
      "cell_type": "code",
      "execution_count": 27,
      "metadata": {
        "id": "OjE97eTYcDe8"
      },
      "outputs": [],
      "source": [
        "X_train = scaler.fit_transform(X_train)"
      ]
    },
    {
      "cell_type": "code",
      "execution_count": 28,
      "metadata": {
        "id": "dgeYTNSceqal"
      },
      "outputs": [],
      "source": [
        "X_test = scaler.transform(X_test)"
      ]
    },
    {
      "cell_type": "code",
      "execution_count": 29,
      "metadata": {},
      "outputs": [],
      "source": [
        "import pickle\n",
        "pickle.dump(scaler, open('scaling.pkl', 'wb'))"
      ]
    },
    {
      "cell_type": "code",
      "execution_count": 30,
      "metadata": {
        "colab": {
          "base_uri": "https://localhost:8080/"
        },
        "id": "oTPzqJpleuFG",
        "outputId": "33c7dee0-75d2-45a0-cb15-467ae195d56c"
      },
      "outputs": [
        {
          "data": {
            "text/plain": [
              "array([[-0.15574906, -0.17563599, -0.40058178, ..., -0.75433745,\n",
              "         0.85740306, -1.25069674],\n",
              "       [-0.33707349,  0.53290621, -0.70255066, ...,  1.46643548,\n",
              "        -0.6699972 ,  0.66608442],\n",
              "       [ 1.71186386,  0.29672548,  0.71826647, ..., -0.10408598,\n",
              "         1.12998526, -1.29550461],\n",
              "       ...,\n",
              "       [ 5.28154509,  0.21799857,  1.58908774, ..., -0.31652501,\n",
              "         0.91849907, -1.38512036],\n",
              "       [ 0.63687587,  1.39890224,  0.50247064, ..., -0.92151929,\n",
              "         1.10648679, -1.39009901],\n",
              "       [ 0.22478359, -0.2543629 , -0.17033128, ..., -0.91527573,\n",
              "        -1.23866007,  1.07931256]], shape=(420, 8))"
            ]
          },
          "execution_count": 30,
          "metadata": {},
          "output_type": "execute_result"
        }
      ],
      "source": [
        "X_train"
      ]
    },
    {
      "cell_type": "markdown",
      "metadata": {
        "id": "776_zsmmfQ9j"
      },
      "source": [
        "**Model Training**"
      ]
    },
    {
      "cell_type": "code",
      "execution_count": 31,
      "metadata": {
        "id": "A-7WMXtFew3U"
      },
      "outputs": [],
      "source": [
        "from sklearn.linear_model import LinearRegression"
      ]
    },
    {
      "cell_type": "code",
      "execution_count": 32,
      "metadata": {
        "id": "UKofLHfzfqg2"
      },
      "outputs": [],
      "source": [
        "regression = LinearRegression()"
      ]
    },
    {
      "cell_type": "code",
      "execution_count": 33,
      "metadata": {
        "colab": {
          "base_uri": "https://localhost:8080/",
          "height": 80
        },
        "id": "7AZbT-6Pfsd7",
        "outputId": "5e0da72b-0560-4ffa-f4d2-6d1090c23371"
      },
      "outputs": [
        {
          "data": {
            "text/html": [
              "<style>#sk-container-id-1 {\n",
              "  /* Definition of color scheme common for light and dark mode */\n",
              "  --sklearn-color-text: #000;\n",
              "  --sklearn-color-text-muted: #666;\n",
              "  --sklearn-color-line: gray;\n",
              "  /* Definition of color scheme for unfitted estimators */\n",
              "  --sklearn-color-unfitted-level-0: #fff5e6;\n",
              "  --sklearn-color-unfitted-level-1: #f6e4d2;\n",
              "  --sklearn-color-unfitted-level-2: #ffe0b3;\n",
              "  --sklearn-color-unfitted-level-3: chocolate;\n",
              "  /* Definition of color scheme for fitted estimators */\n",
              "  --sklearn-color-fitted-level-0: #f0f8ff;\n",
              "  --sklearn-color-fitted-level-1: #d4ebff;\n",
              "  --sklearn-color-fitted-level-2: #b3dbfd;\n",
              "  --sklearn-color-fitted-level-3: cornflowerblue;\n",
              "\n",
              "  /* Specific color for light theme */\n",
              "  --sklearn-color-text-on-default-background: var(--sg-text-color, var(--theme-code-foreground, var(--jp-content-font-color1, black)));\n",
              "  --sklearn-color-background: var(--sg-background-color, var(--theme-background, var(--jp-layout-color0, white)));\n",
              "  --sklearn-color-border-box: var(--sg-text-color, var(--theme-code-foreground, var(--jp-content-font-color1, black)));\n",
              "  --sklearn-color-icon: #696969;\n",
              "\n",
              "  @media (prefers-color-scheme: dark) {\n",
              "    /* Redefinition of color scheme for dark theme */\n",
              "    --sklearn-color-text-on-default-background: var(--sg-text-color, var(--theme-code-foreground, var(--jp-content-font-color1, white)));\n",
              "    --sklearn-color-background: var(--sg-background-color, var(--theme-background, var(--jp-layout-color0, #111)));\n",
              "    --sklearn-color-border-box: var(--sg-text-color, var(--theme-code-foreground, var(--jp-content-font-color1, white)));\n",
              "    --sklearn-color-icon: #878787;\n",
              "  }\n",
              "}\n",
              "\n",
              "#sk-container-id-1 {\n",
              "  color: var(--sklearn-color-text);\n",
              "}\n",
              "\n",
              "#sk-container-id-1 pre {\n",
              "  padding: 0;\n",
              "}\n",
              "\n",
              "#sk-container-id-1 input.sk-hidden--visually {\n",
              "  border: 0;\n",
              "  clip: rect(1px 1px 1px 1px);\n",
              "  clip: rect(1px, 1px, 1px, 1px);\n",
              "  height: 1px;\n",
              "  margin: -1px;\n",
              "  overflow: hidden;\n",
              "  padding: 0;\n",
              "  position: absolute;\n",
              "  width: 1px;\n",
              "}\n",
              "\n",
              "#sk-container-id-1 div.sk-dashed-wrapped {\n",
              "  border: 1px dashed var(--sklearn-color-line);\n",
              "  margin: 0 0.4em 0.5em 0.4em;\n",
              "  box-sizing: border-box;\n",
              "  padding-bottom: 0.4em;\n",
              "  background-color: var(--sklearn-color-background);\n",
              "}\n",
              "\n",
              "#sk-container-id-1 div.sk-container {\n",
              "  /* jupyter's `normalize.less` sets `[hidden] { display: none; }`\n",
              "     but bootstrap.min.css set `[hidden] { display: none !important; }`\n",
              "     so we also need the `!important` here to be able to override the\n",
              "     default hidden behavior on the sphinx rendered scikit-learn.org.\n",
              "     See: https://github.com/scikit-learn/scikit-learn/issues/21755 */\n",
              "  display: inline-block !important;\n",
              "  position: relative;\n",
              "}\n",
              "\n",
              "#sk-container-id-1 div.sk-text-repr-fallback {\n",
              "  display: none;\n",
              "}\n",
              "\n",
              "div.sk-parallel-item,\n",
              "div.sk-serial,\n",
              "div.sk-item {\n",
              "  /* draw centered vertical line to link estimators */\n",
              "  background-image: linear-gradient(var(--sklearn-color-text-on-default-background), var(--sklearn-color-text-on-default-background));\n",
              "  background-size: 2px 100%;\n",
              "  background-repeat: no-repeat;\n",
              "  background-position: center center;\n",
              "}\n",
              "\n",
              "/* Parallel-specific style estimator block */\n",
              "\n",
              "#sk-container-id-1 div.sk-parallel-item::after {\n",
              "  content: \"\";\n",
              "  width: 100%;\n",
              "  border-bottom: 2px solid var(--sklearn-color-text-on-default-background);\n",
              "  flex-grow: 1;\n",
              "}\n",
              "\n",
              "#sk-container-id-1 div.sk-parallel {\n",
              "  display: flex;\n",
              "  align-items: stretch;\n",
              "  justify-content: center;\n",
              "  background-color: var(--sklearn-color-background);\n",
              "  position: relative;\n",
              "}\n",
              "\n",
              "#sk-container-id-1 div.sk-parallel-item {\n",
              "  display: flex;\n",
              "  flex-direction: column;\n",
              "}\n",
              "\n",
              "#sk-container-id-1 div.sk-parallel-item:first-child::after {\n",
              "  align-self: flex-end;\n",
              "  width: 50%;\n",
              "}\n",
              "\n",
              "#sk-container-id-1 div.sk-parallel-item:last-child::after {\n",
              "  align-self: flex-start;\n",
              "  width: 50%;\n",
              "}\n",
              "\n",
              "#sk-container-id-1 div.sk-parallel-item:only-child::after {\n",
              "  width: 0;\n",
              "}\n",
              "\n",
              "/* Serial-specific style estimator block */\n",
              "\n",
              "#sk-container-id-1 div.sk-serial {\n",
              "  display: flex;\n",
              "  flex-direction: column;\n",
              "  align-items: center;\n",
              "  background-color: var(--sklearn-color-background);\n",
              "  padding-right: 1em;\n",
              "  padding-left: 1em;\n",
              "}\n",
              "\n",
              "\n",
              "/* Toggleable style: style used for estimator/Pipeline/ColumnTransformer box that is\n",
              "clickable and can be expanded/collapsed.\n",
              "- Pipeline and ColumnTransformer use this feature and define the default style\n",
              "- Estimators will overwrite some part of the style using the `sk-estimator` class\n",
              "*/\n",
              "\n",
              "/* Pipeline and ColumnTransformer style (default) */\n",
              "\n",
              "#sk-container-id-1 div.sk-toggleable {\n",
              "  /* Default theme specific background. It is overwritten whether we have a\n",
              "  specific estimator or a Pipeline/ColumnTransformer */\n",
              "  background-color: var(--sklearn-color-background);\n",
              "}\n",
              "\n",
              "/* Toggleable label */\n",
              "#sk-container-id-1 label.sk-toggleable__label {\n",
              "  cursor: pointer;\n",
              "  display: flex;\n",
              "  width: 100%;\n",
              "  margin-bottom: 0;\n",
              "  padding: 0.5em;\n",
              "  box-sizing: border-box;\n",
              "  text-align: center;\n",
              "  align-items: start;\n",
              "  justify-content: space-between;\n",
              "  gap: 0.5em;\n",
              "}\n",
              "\n",
              "#sk-container-id-1 label.sk-toggleable__label .caption {\n",
              "  font-size: 0.6rem;\n",
              "  font-weight: lighter;\n",
              "  color: var(--sklearn-color-text-muted);\n",
              "}\n",
              "\n",
              "#sk-container-id-1 label.sk-toggleable__label-arrow:before {\n",
              "  /* Arrow on the left of the label */\n",
              "  content: \"▸\";\n",
              "  float: left;\n",
              "  margin-right: 0.25em;\n",
              "  color: var(--sklearn-color-icon);\n",
              "}\n",
              "\n",
              "#sk-container-id-1 label.sk-toggleable__label-arrow:hover:before {\n",
              "  color: var(--sklearn-color-text);\n",
              "}\n",
              "\n",
              "/* Toggleable content - dropdown */\n",
              "\n",
              "#sk-container-id-1 div.sk-toggleable__content {\n",
              "  display: none;\n",
              "  text-align: left;\n",
              "  /* unfitted */\n",
              "  background-color: var(--sklearn-color-unfitted-level-0);\n",
              "}\n",
              "\n",
              "#sk-container-id-1 div.sk-toggleable__content.fitted {\n",
              "  /* fitted */\n",
              "  background-color: var(--sklearn-color-fitted-level-0);\n",
              "}\n",
              "\n",
              "#sk-container-id-1 div.sk-toggleable__content pre {\n",
              "  margin: 0.2em;\n",
              "  border-radius: 0.25em;\n",
              "  color: var(--sklearn-color-text);\n",
              "  /* unfitted */\n",
              "  background-color: var(--sklearn-color-unfitted-level-0);\n",
              "}\n",
              "\n",
              "#sk-container-id-1 div.sk-toggleable__content.fitted pre {\n",
              "  /* unfitted */\n",
              "  background-color: var(--sklearn-color-fitted-level-0);\n",
              "}\n",
              "\n",
              "#sk-container-id-1 input.sk-toggleable__control:checked~div.sk-toggleable__content {\n",
              "  /* Expand drop-down */\n",
              "  display: block;\n",
              "  width: 100%;\n",
              "  overflow: visible;\n",
              "}\n",
              "\n",
              "#sk-container-id-1 input.sk-toggleable__control:checked~label.sk-toggleable__label-arrow:before {\n",
              "  content: \"▾\";\n",
              "}\n",
              "\n",
              "/* Pipeline/ColumnTransformer-specific style */\n",
              "\n",
              "#sk-container-id-1 div.sk-label input.sk-toggleable__control:checked~label.sk-toggleable__label {\n",
              "  color: var(--sklearn-color-text);\n",
              "  background-color: var(--sklearn-color-unfitted-level-2);\n",
              "}\n",
              "\n",
              "#sk-container-id-1 div.sk-label.fitted input.sk-toggleable__control:checked~label.sk-toggleable__label {\n",
              "  background-color: var(--sklearn-color-fitted-level-2);\n",
              "}\n",
              "\n",
              "/* Estimator-specific style */\n",
              "\n",
              "/* Colorize estimator box */\n",
              "#sk-container-id-1 div.sk-estimator input.sk-toggleable__control:checked~label.sk-toggleable__label {\n",
              "  /* unfitted */\n",
              "  background-color: var(--sklearn-color-unfitted-level-2);\n",
              "}\n",
              "\n",
              "#sk-container-id-1 div.sk-estimator.fitted input.sk-toggleable__control:checked~label.sk-toggleable__label {\n",
              "  /* fitted */\n",
              "  background-color: var(--sklearn-color-fitted-level-2);\n",
              "}\n",
              "\n",
              "#sk-container-id-1 div.sk-label label.sk-toggleable__label,\n",
              "#sk-container-id-1 div.sk-label label {\n",
              "  /* The background is the default theme color */\n",
              "  color: var(--sklearn-color-text-on-default-background);\n",
              "}\n",
              "\n",
              "/* On hover, darken the color of the background */\n",
              "#sk-container-id-1 div.sk-label:hover label.sk-toggleable__label {\n",
              "  color: var(--sklearn-color-text);\n",
              "  background-color: var(--sklearn-color-unfitted-level-2);\n",
              "}\n",
              "\n",
              "/* Label box, darken color on hover, fitted */\n",
              "#sk-container-id-1 div.sk-label.fitted:hover label.sk-toggleable__label.fitted {\n",
              "  color: var(--sklearn-color-text);\n",
              "  background-color: var(--sklearn-color-fitted-level-2);\n",
              "}\n",
              "\n",
              "/* Estimator label */\n",
              "\n",
              "#sk-container-id-1 div.sk-label label {\n",
              "  font-family: monospace;\n",
              "  font-weight: bold;\n",
              "  display: inline-block;\n",
              "  line-height: 1.2em;\n",
              "}\n",
              "\n",
              "#sk-container-id-1 div.sk-label-container {\n",
              "  text-align: center;\n",
              "}\n",
              "\n",
              "/* Estimator-specific */\n",
              "#sk-container-id-1 div.sk-estimator {\n",
              "  font-family: monospace;\n",
              "  border: 1px dotted var(--sklearn-color-border-box);\n",
              "  border-radius: 0.25em;\n",
              "  box-sizing: border-box;\n",
              "  margin-bottom: 0.5em;\n",
              "  /* unfitted */\n",
              "  background-color: var(--sklearn-color-unfitted-level-0);\n",
              "}\n",
              "\n",
              "#sk-container-id-1 div.sk-estimator.fitted {\n",
              "  /* fitted */\n",
              "  background-color: var(--sklearn-color-fitted-level-0);\n",
              "}\n",
              "\n",
              "/* on hover */\n",
              "#sk-container-id-1 div.sk-estimator:hover {\n",
              "  /* unfitted */\n",
              "  background-color: var(--sklearn-color-unfitted-level-2);\n",
              "}\n",
              "\n",
              "#sk-container-id-1 div.sk-estimator.fitted:hover {\n",
              "  /* fitted */\n",
              "  background-color: var(--sklearn-color-fitted-level-2);\n",
              "}\n",
              "\n",
              "/* Specification for estimator info (e.g. \"i\" and \"?\") */\n",
              "\n",
              "/* Common style for \"i\" and \"?\" */\n",
              "\n",
              ".sk-estimator-doc-link,\n",
              "a:link.sk-estimator-doc-link,\n",
              "a:visited.sk-estimator-doc-link {\n",
              "  float: right;\n",
              "  font-size: smaller;\n",
              "  line-height: 1em;\n",
              "  font-family: monospace;\n",
              "  background-color: var(--sklearn-color-background);\n",
              "  border-radius: 1em;\n",
              "  height: 1em;\n",
              "  width: 1em;\n",
              "  text-decoration: none !important;\n",
              "  margin-left: 0.5em;\n",
              "  text-align: center;\n",
              "  /* unfitted */\n",
              "  border: var(--sklearn-color-unfitted-level-1) 1pt solid;\n",
              "  color: var(--sklearn-color-unfitted-level-1);\n",
              "}\n",
              "\n",
              ".sk-estimator-doc-link.fitted,\n",
              "a:link.sk-estimator-doc-link.fitted,\n",
              "a:visited.sk-estimator-doc-link.fitted {\n",
              "  /* fitted */\n",
              "  border: var(--sklearn-color-fitted-level-1) 1pt solid;\n",
              "  color: var(--sklearn-color-fitted-level-1);\n",
              "}\n",
              "\n",
              "/* On hover */\n",
              "div.sk-estimator:hover .sk-estimator-doc-link:hover,\n",
              ".sk-estimator-doc-link:hover,\n",
              "div.sk-label-container:hover .sk-estimator-doc-link:hover,\n",
              ".sk-estimator-doc-link:hover {\n",
              "  /* unfitted */\n",
              "  background-color: var(--sklearn-color-unfitted-level-3);\n",
              "  color: var(--sklearn-color-background);\n",
              "  text-decoration: none;\n",
              "}\n",
              "\n",
              "div.sk-estimator.fitted:hover .sk-estimator-doc-link.fitted:hover,\n",
              ".sk-estimator-doc-link.fitted:hover,\n",
              "div.sk-label-container:hover .sk-estimator-doc-link.fitted:hover,\n",
              ".sk-estimator-doc-link.fitted:hover {\n",
              "  /* fitted */\n",
              "  background-color: var(--sklearn-color-fitted-level-3);\n",
              "  color: var(--sklearn-color-background);\n",
              "  text-decoration: none;\n",
              "}\n",
              "\n",
              "/* Span, style for the box shown on hovering the info icon */\n",
              ".sk-estimator-doc-link span {\n",
              "  display: none;\n",
              "  z-index: 9999;\n",
              "  position: relative;\n",
              "  font-weight: normal;\n",
              "  right: .2ex;\n",
              "  padding: .5ex;\n",
              "  margin: .5ex;\n",
              "  width: min-content;\n",
              "  min-width: 20ex;\n",
              "  max-width: 50ex;\n",
              "  color: var(--sklearn-color-text);\n",
              "  box-shadow: 2pt 2pt 4pt #999;\n",
              "  /* unfitted */\n",
              "  background: var(--sklearn-color-unfitted-level-0);\n",
              "  border: .5pt solid var(--sklearn-color-unfitted-level-3);\n",
              "}\n",
              "\n",
              ".sk-estimator-doc-link.fitted span {\n",
              "  /* fitted */\n",
              "  background: var(--sklearn-color-fitted-level-0);\n",
              "  border: var(--sklearn-color-fitted-level-3);\n",
              "}\n",
              "\n",
              ".sk-estimator-doc-link:hover span {\n",
              "  display: block;\n",
              "}\n",
              "\n",
              "/* \"?\"-specific style due to the `<a>` HTML tag */\n",
              "\n",
              "#sk-container-id-1 a.estimator_doc_link {\n",
              "  float: right;\n",
              "  font-size: 1rem;\n",
              "  line-height: 1em;\n",
              "  font-family: monospace;\n",
              "  background-color: var(--sklearn-color-background);\n",
              "  border-radius: 1rem;\n",
              "  height: 1rem;\n",
              "  width: 1rem;\n",
              "  text-decoration: none;\n",
              "  /* unfitted */\n",
              "  color: var(--sklearn-color-unfitted-level-1);\n",
              "  border: var(--sklearn-color-unfitted-level-1) 1pt solid;\n",
              "}\n",
              "\n",
              "#sk-container-id-1 a.estimator_doc_link.fitted {\n",
              "  /* fitted */\n",
              "  border: var(--sklearn-color-fitted-level-1) 1pt solid;\n",
              "  color: var(--sklearn-color-fitted-level-1);\n",
              "}\n",
              "\n",
              "/* On hover */\n",
              "#sk-container-id-1 a.estimator_doc_link:hover {\n",
              "  /* unfitted */\n",
              "  background-color: var(--sklearn-color-unfitted-level-3);\n",
              "  color: var(--sklearn-color-background);\n",
              "  text-decoration: none;\n",
              "}\n",
              "\n",
              "#sk-container-id-1 a.estimator_doc_link.fitted:hover {\n",
              "  /* fitted */\n",
              "  background-color: var(--sklearn-color-fitted-level-3);\n",
              "}\n",
              "\n",
              ".estimator-table summary {\n",
              "    padding: .5rem;\n",
              "    font-family: monospace;\n",
              "    cursor: pointer;\n",
              "}\n",
              "\n",
              ".estimator-table details[open] {\n",
              "    padding-left: 0.1rem;\n",
              "    padding-right: 0.1rem;\n",
              "    padding-bottom: 0.3rem;\n",
              "}\n",
              "\n",
              ".estimator-table .parameters-table {\n",
              "    margin-left: auto !important;\n",
              "    margin-right: auto !important;\n",
              "}\n",
              "\n",
              ".estimator-table .parameters-table tr:nth-child(odd) {\n",
              "    background-color: #fff;\n",
              "}\n",
              "\n",
              ".estimator-table .parameters-table tr:nth-child(even) {\n",
              "    background-color: #f6f6f6;\n",
              "}\n",
              "\n",
              ".estimator-table .parameters-table tr:hover {\n",
              "    background-color: #e0e0e0;\n",
              "}\n",
              "\n",
              ".estimator-table table td {\n",
              "    border: 1px solid rgba(106, 105, 104, 0.232);\n",
              "}\n",
              "\n",
              ".user-set td {\n",
              "    color:rgb(255, 94, 0);\n",
              "    text-align: left;\n",
              "}\n",
              "\n",
              ".user-set td.value pre {\n",
              "    color:rgb(255, 94, 0) !important;\n",
              "    background-color: transparent !important;\n",
              "}\n",
              "\n",
              ".default td {\n",
              "    color: black;\n",
              "    text-align: left;\n",
              "}\n",
              "\n",
              ".user-set td i,\n",
              ".default td i {\n",
              "    color: black;\n",
              "}\n",
              "\n",
              ".copy-paste-icon {\n",
              "    background-image: url(data:image/svg+xml;base64,PHN2ZyB4bWxucz0iaHR0cDovL3d3dy53My5vcmcvMjAwMC9zdmciIHZpZXdCb3g9IjAgMCA0NDggNTEyIj48IS0tIUZvbnQgQXdlc29tZSBGcmVlIDYuNy4yIGJ5IEBmb250YXdlc29tZSAtIGh0dHBzOi8vZm9udGF3ZXNvbWUuY29tIExpY2Vuc2UgLSBodHRwczovL2ZvbnRhd2Vzb21lLmNvbS9saWNlbnNlL2ZyZWUgQ29weXJpZ2h0IDIwMjUgRm9udGljb25zLCBJbmMuLS0+PHBhdGggZD0iTTIwOCAwTDMzMi4xIDBjMTIuNyAwIDI0LjkgNS4xIDMzLjkgMTQuMWw2Ny45IDY3LjljOSA5IDE0LjEgMjEuMiAxNC4xIDMzLjlMNDQ4IDMzNmMwIDI2LjUtMjEuNSA0OC00OCA0OGwtMTkyIDBjLTI2LjUgMC00OC0yMS41LTQ4LTQ4bDAtMjg4YzAtMjYuNSAyMS41LTQ4IDQ4LTQ4ek00OCAxMjhsODAgMCAwIDY0LTY0IDAgMCAyNTYgMTkyIDAgMC0zMiA2NCAwIDAgNDhjMCAyNi41LTIxLjUgNDgtNDggNDhMNDggNTEyYy0yNi41IDAtNDgtMjEuNS00OC00OEwwIDE3NmMwLTI2LjUgMjEuNS00OCA0OC00OHoiLz48L3N2Zz4=);\n",
              "    background-repeat: no-repeat;\n",
              "    background-size: 14px 14px;\n",
              "    background-position: 0;\n",
              "    display: inline-block;\n",
              "    width: 14px;\n",
              "    height: 14px;\n",
              "    cursor: pointer;\n",
              "}\n",
              "</style><body><div id=\"sk-container-id-1\" class=\"sk-top-container\"><div class=\"sk-text-repr-fallback\"><pre>LinearRegression()</pre><b>In a Jupyter environment, please rerun this cell to show the HTML representation or trust the notebook. <br />On GitHub, the HTML representation is unable to render, please try loading this page with nbviewer.org.</b></div><div class=\"sk-container\" hidden><div class=\"sk-item\"><div class=\"sk-estimator fitted sk-toggleable\"><input class=\"sk-toggleable__control sk-hidden--visually\" id=\"sk-estimator-id-1\" type=\"checkbox\" checked><label for=\"sk-estimator-id-1\" class=\"sk-toggleable__label fitted sk-toggleable__label-arrow\"><div><div>LinearRegression</div></div><div><a class=\"sk-estimator-doc-link fitted\" rel=\"noreferrer\" target=\"_blank\" href=\"https://scikit-learn.org/1.7/modules/generated/sklearn.linear_model.LinearRegression.html\">?<span>Documentation for LinearRegression</span></a><span class=\"sk-estimator-doc-link fitted\">i<span>Fitted</span></span></div></label><div class=\"sk-toggleable__content fitted\" data-param-prefix=\"\">\n",
              "        <div class=\"estimator-table\">\n",
              "            <details>\n",
              "                <summary>Parameters</summary>\n",
              "                <table class=\"parameters-table\">\n",
              "                  <tbody>\n",
              "                    \n",
              "        <tr class=\"default\">\n",
              "            <td><i class=\"copy-paste-icon\"\n",
              "                 onclick=\"copyToClipboard('fit_intercept',\n",
              "                          this.parentElement.nextElementSibling)\"\n",
              "            ></i></td>\n",
              "            <td class=\"param\">fit_intercept&nbsp;</td>\n",
              "            <td class=\"value\">True</td>\n",
              "        </tr>\n",
              "    \n",
              "\n",
              "        <tr class=\"default\">\n",
              "            <td><i class=\"copy-paste-icon\"\n",
              "                 onclick=\"copyToClipboard('copy_X',\n",
              "                          this.parentElement.nextElementSibling)\"\n",
              "            ></i></td>\n",
              "            <td class=\"param\">copy_X&nbsp;</td>\n",
              "            <td class=\"value\">True</td>\n",
              "        </tr>\n",
              "    \n",
              "\n",
              "        <tr class=\"default\">\n",
              "            <td><i class=\"copy-paste-icon\"\n",
              "                 onclick=\"copyToClipboard('tol',\n",
              "                          this.parentElement.nextElementSibling)\"\n",
              "            ></i></td>\n",
              "            <td class=\"param\">tol&nbsp;</td>\n",
              "            <td class=\"value\">1e-06</td>\n",
              "        </tr>\n",
              "    \n",
              "\n",
              "        <tr class=\"default\">\n",
              "            <td><i class=\"copy-paste-icon\"\n",
              "                 onclick=\"copyToClipboard('n_jobs',\n",
              "                          this.parentElement.nextElementSibling)\"\n",
              "            ></i></td>\n",
              "            <td class=\"param\">n_jobs&nbsp;</td>\n",
              "            <td class=\"value\">None</td>\n",
              "        </tr>\n",
              "    \n",
              "\n",
              "        <tr class=\"default\">\n",
              "            <td><i class=\"copy-paste-icon\"\n",
              "                 onclick=\"copyToClipboard('positive',\n",
              "                          this.parentElement.nextElementSibling)\"\n",
              "            ></i></td>\n",
              "            <td class=\"param\">positive&nbsp;</td>\n",
              "            <td class=\"value\">False</td>\n",
              "        </tr>\n",
              "    \n",
              "                  </tbody>\n",
              "                </table>\n",
              "            </details>\n",
              "        </div>\n",
              "    </div></div></div></div></div><script>function copyToClipboard(text, element) {\n",
              "    // Get the parameter prefix from the closest toggleable content\n",
              "    const toggleableContent = element.closest('.sk-toggleable__content');\n",
              "    const paramPrefix = toggleableContent ? toggleableContent.dataset.paramPrefix : '';\n",
              "    const fullParamName = paramPrefix ? `${paramPrefix}${text}` : text;\n",
              "\n",
              "    const originalStyle = element.style;\n",
              "    const computedStyle = window.getComputedStyle(element);\n",
              "    const originalWidth = computedStyle.width;\n",
              "    const originalHTML = element.innerHTML.replace('Copied!', '');\n",
              "\n",
              "    navigator.clipboard.writeText(fullParamName)\n",
              "        .then(() => {\n",
              "            element.style.width = originalWidth;\n",
              "            element.style.color = 'green';\n",
              "            element.innerHTML = \"Copied!\";\n",
              "\n",
              "            setTimeout(() => {\n",
              "                element.innerHTML = originalHTML;\n",
              "                element.style = originalStyle;\n",
              "            }, 2000);\n",
              "        })\n",
              "        .catch(err => {\n",
              "            console.error('Failed to copy:', err);\n",
              "            element.style.color = 'red';\n",
              "            element.innerHTML = \"Failed!\";\n",
              "            setTimeout(() => {\n",
              "                element.innerHTML = originalHTML;\n",
              "                element.style = originalStyle;\n",
              "            }, 2000);\n",
              "        });\n",
              "    return false;\n",
              "}\n",
              "\n",
              "document.querySelectorAll('.fa-regular.fa-copy').forEach(function(element) {\n",
              "    const toggleableContent = element.closest('.sk-toggleable__content');\n",
              "    const paramPrefix = toggleableContent ? toggleableContent.dataset.paramPrefix : '';\n",
              "    const paramName = element.parentElement.nextElementSibling.textContent.trim();\n",
              "    const fullParamName = paramPrefix ? `${paramPrefix}${paramName}` : paramName;\n",
              "\n",
              "    element.setAttribute('title', fullParamName);\n",
              "});\n",
              "</script></body>"
            ],
            "text/plain": [
              "LinearRegression()"
            ]
          },
          "execution_count": 33,
          "metadata": {},
          "output_type": "execute_result"
        }
      ],
      "source": [
        "regression.fit(X_train, y_train)"
      ]
    },
    {
      "cell_type": "code",
      "execution_count": 34,
      "metadata": {
        "colab": {
          "base_uri": "https://localhost:8080/"
        },
        "id": "MU3dYQcwfv_l",
        "outputId": "c63b865e-0627-497b-ea95-fae8ae10027a"
      },
      "outputs": [
        {
          "name": "stdout",
          "output_type": "stream",
          "text": [
            "[ 0.78147116  0.08084832 -0.11383553  0.2446161   0.01617612 -0.22813114\n",
            " -1.06500642 -0.99046982]\n"
          ]
        }
      ],
      "source": [
        "# Print the coefficients and the intercept\n",
        "\n",
        "print(regression.coef_)"
      ]
    },
    {
      "cell_type": "code",
      "execution_count": 35,
      "metadata": {
        "colab": {
          "base_uri": "https://localhost:8080/"
        },
        "id": "029m5T6SgJWs",
        "outputId": "11fb03f3-d172-4795-cd4a-93623f7e1997"
      },
      "outputs": [
        {
          "name": "stdout",
          "output_type": "stream",
          "text": [
            "2.091433857142864\n"
          ]
        }
      ],
      "source": [
        "print(regression.intercept_)"
      ]
    },
    {
      "cell_type": "code",
      "execution_count": 36,
      "metadata": {
        "colab": {
          "base_uri": "https://localhost:8080/"
        },
        "id": "3hVNujzDnimZ",
        "outputId": "21792c21-4dfa-4164-aa76-447000d6d03a"
      },
      "outputs": [
        {
          "data": {
            "text/plain": [
              "{'copy_X': True,\n",
              " 'fit_intercept': True,\n",
              " 'n_jobs': None,\n",
              " 'positive': False,\n",
              " 'tol': 1e-06}"
            ]
          },
          "execution_count": 36,
          "metadata": {},
          "output_type": "execute_result"
        }
      ],
      "source": [
        "# On which parameters the model has been trained\n",
        "regression.get_params()"
      ]
    },
    {
      "cell_type": "code",
      "execution_count": 37,
      "metadata": {
        "id": "F2-SHUlLmw6N"
      },
      "outputs": [],
      "source": [
        "# Prediction with test data\n",
        "\n",
        "reg_pred = regression.predict(X_test)"
      ]
    },
    {
      "cell_type": "code",
      "execution_count": 38,
      "metadata": {
        "colab": {
          "base_uri": "https://localhost:8080/"
        },
        "id": "Xi-3xwusoKkE",
        "outputId": "b0f2c45b-8f1a-47cd-ac85-5ea0354fd5a0"
      },
      "outputs": [
        {
          "data": {
            "text/plain": [
              "array([ 1.94948709,  1.65368301,  2.70551392,  2.25171684,  3.30155331,\n",
              "        2.47757758,  0.94822419,  1.42246183,  2.20941602,  2.42941025,\n",
              "        1.95668749,  2.5120693 ,  1.05357772,  1.10368486,  2.41270457,\n",
              "        0.84617669,  1.59610901,  2.58196716,  0.5048927 ,  1.90015761,\n",
              "        3.02542681,  2.03534237,  1.97851366,  1.7713669 ,  2.77317247,\n",
              "        0.23503405,  1.02968884,  1.75867867,  1.69108655,  1.28178695,\n",
              "        2.82456374,  1.92042229,  1.24880611,  1.44009451,  1.29500668,\n",
              "        0.72717222,  2.74259223,  3.14589677,  1.31737973,  2.02970773,\n",
              "        2.01297442,  3.26841115,  2.4109268 ,  3.12849825,  2.26955916,\n",
              "        2.19949979,  0.82852237,  2.29016267,  1.29602241,  1.58931972,\n",
              "        2.54756131,  2.86652442,  3.82215289,  2.5391785 ,  1.16856611,\n",
              "        0.43867353,  2.23494217,  3.4024485 ,  2.75764283,  1.05506221,\n",
              "        3.30052486,  1.2684757 ,  1.54281364,  2.820483  ,  2.78052198,\n",
              "        0.03043994,  2.81802927,  2.34843721,  1.69661012,  0.91974967,\n",
              "        1.36280647,  2.5878336 ,  1.5229867 ,  2.97704035,  2.4185337 ,\n",
              "        1.29913671,  2.65934497,  1.77683102,  1.31902544,  2.73492288,\n",
              "        3.09226753,  2.26401095,  1.02740711,  2.41236882,  2.10212109,\n",
              "        1.43471351,  2.74360578,  2.60516895,  1.99520236,  1.15411431,\n",
              "        1.17112522,  3.09237711,  2.77500898,  0.95935839,  2.01990961,\n",
              "        1.58645798,  2.30562753,  1.87928563,  2.26203695,  1.38071706,\n",
              "        1.83348546,  2.24586992,  2.4530356 ,  2.66670081,  1.95560705,\n",
              "        2.14636409,  2.02064256,  2.77363737,  3.60060636,  1.20670204,\n",
              "        1.21822768,  1.19442763,  1.22191087,  2.82525261,  1.46476887,\n",
              "        1.74655532,  2.52540047,  0.51537428,  2.49414456,  2.51251656,\n",
              "        1.40878831,  3.70588627,  2.44680399,  1.27816423,  3.90997952,\n",
              "        6.00999488,  2.06621554,  2.50602655,  1.94044304,  3.03134584,\n",
              "        3.24512199,  2.31954105,  1.77814243,  1.18447352,  3.81065979,\n",
              "        2.13492986,  2.19821721,  1.26057178,  2.6897891 ,  1.49607952,\n",
              "        1.54878547,  1.96358061,  0.94903867,  1.84436358,  3.03969535,\n",
              "        2.47024446,  2.2038724 ,  0.27598419,  3.27841573,  0.44977674,\n",
              "        1.96389922,  1.9420824 ,  0.44913101,  3.0026013 ,  1.80941463,\n",
              "        1.66360865,  1.66144923,  2.46160709,  1.90524413,  1.77292647,\n",
              "        1.89704263,  5.13325955,  2.34414665,  1.8854303 ,  2.77580874,\n",
              "        3.68557982,  4.04141807,  1.54497781,  3.35684275,  3.88470789,\n",
              "        0.92244043,  1.96263457,  0.44740719,  2.74757839,  0.96874766,\n",
              "        1.39166389,  0.4130723 ,  2.07325884,  0.35619497, -0.77328173])"
            ]
          },
          "execution_count": 38,
          "metadata": {},
          "output_type": "execute_result"
        }
      ],
      "source": [
        "reg_pred"
      ]
    },
    {
      "cell_type": "code",
      "execution_count": 39,
      "metadata": {
        "colab": {
          "base_uri": "https://localhost:8080/",
          "height": 447
        },
        "id": "znw38PvcoQiP",
        "outputId": "fc04e749-cd6a-4602-b574-0149ad6c09bf"
      },
      "outputs": [
        {
          "data": {
            "text/plain": [
              "<matplotlib.collections.PathCollection at 0x15623b90350>"
            ]
          },
          "execution_count": 39,
          "metadata": {},
          "output_type": "execute_result"
        },
        {
          "data": {
            "image/png": "[encoded data removed]",
            "text/plain": [
              "<Figure size 640x480 with 1 Axes>"
            ]
          },
          "metadata": {},
          "output_type": "display_data"
        }
      ],
      "source": [
        "# Plot a scatter plot for the prediction\n",
        "# Both the values are linear, this indicates that some amount of good information our model has actually given, and is predicting well.\n",
        "plt.scatter(y_test, reg_pred)"
      ]
    },
    {
      "cell_type": "code",
      "execution_count": 40,
      "metadata": {
        "colab": {
          "base_uri": "https://localhost:8080/",
          "height": 458
        },
        "id": "IMkIad-8ohlG",
        "outputId": "87f46c64-2d31-4c9b-8191-d3f22892ccc8"
      },
      "outputs": [
        {
          "data": {
            "text/plain": [
              "538     -0.215487\n",
              "7438    -0.005683\n",
              "2041    -0.988514\n",
              "10495   -0.355717\n",
              "18466    1.375447\n",
              "           ...   \n",
              "7191     0.113336\n",
              "2235     0.103928\n",
              "14986   -0.653259\n",
              "2028     0.141805\n",
              "9665     1.299282\n",
              "Name: MedHouseVal, Length: 180, dtype: float64"
            ]
          },
          "execution_count": 40,
          "metadata": {},
          "output_type": "execute_result"
        }
      ],
      "source": [
        "# Prediction with residuals\n",
        "# residuals >> Error wrt y_test and reg_pred\n",
        "\n",
        "residuals = y_test - reg_pred\n",
        "residuals"
      ]
    },
    {
      "cell_type": "code",
      "execution_count": 41,
      "metadata": {
        "colab": {
          "base_uri": "https://localhost:8080/",
          "height": 523
        },
        "id": "aSqMbf7bpGFL",
        "outputId": "1040b2f9-0f1c-4b31-977f-68ffaa6ae49b"
      },
      "outputs": [
        {
          "data": {
            "text/plain": [
              "<seaborn.axisgrid.FacetGrid at 0x15623c262d0>"
            ]
          },
          "execution_count": 41,
          "metadata": {},
          "output_type": "execute_result"
        },
        {
          "data": {
            "image/png": "[encoded data removed]",
            "text/plain": [
              "<Figure size 500x500 with 1 Axes>"
            ]
          },
          "metadata": {},
          "output_type": "display_data"
        }
      ],
      "source": [
        "# Plot this residuals >> To see outliers\n",
        "\n",
        "sns.displot(residuals, kind='kde')"
      ]
    },
    {
      "cell_type": "code",
      "execution_count": 42,
      "metadata": {
        "colab": {
          "base_uri": "https://localhost:8080/",
          "height": 447
        },
        "id": "wLQne9PRqJFC",
        "outputId": "61c530db-a0a2-44ab-ee31-23b548913aad"
      },
      "outputs": [
        {
          "data": {
            "text/plain": [
              "<matplotlib.collections.PathCollection at 0x15625cf4170>"
            ]
          },
          "execution_count": 42,
          "metadata": {},
          "output_type": "execute_result"
        },
        {
          "data": {
            "image/png": "[encoded data removed]",
            "text/plain": [
              "<Figure size 640x480 with 1 Axes>"
            ]
          },
          "metadata": {},
          "output_type": "display_data"
        }
      ],
      "source": [
        "# Scatter plot wrt to prediction and residuals\n",
        "\n",
        "plt.scatter(reg_pred, residuals)"
      ]
    },
    {
      "cell_type": "code",
      "execution_count": 43,
      "metadata": {
        "colab": {
          "base_uri": "https://localhost:8080/"
        },
        "id": "A6EGSR-Pql7U",
        "outputId": "dd2a2e3b-99f0-45d9-a2c6-0990c52b7f22"
      },
      "outputs": [
        {
          "name": "stdout",
          "output_type": "stream",
          "text": [
            "0.5149966364934951\n",
            "0.4947230367828994\n",
            "0.7033655072456279\n"
          ]
        }
      ],
      "source": [
        "# Performance metrics\n",
        "\n",
        "from sklearn.metrics import mean_squared_error\n",
        "from sklearn.metrics import mean_absolute_error\n",
        "\n",
        "print(mean_absolute_error(y_test, reg_pred))\n",
        "print(mean_squared_error(y_test, reg_pred))\n",
        "print(np.sqrt(mean_squared_error(y_test, reg_pred)))"
      ]
    },
    {
      "cell_type": "markdown",
      "metadata": {
        "id": "yXHerOKnsxQv"
      },
      "source": [
        "**R square and adjusted R square**\n",
        "\n",
        "Formula\n",
        "\n",
        "**R^2 = 1- SSR/SST**\n",
        "\n",
        "R^2 = coefficient of determination\n",
        "SSR = Sum of square of residuals\n",
        "SST = Sum of square of Total\n",
        "\n",
        "Adjusted R2 = 1 - [(1-R2)*(n-1)(k-1)]\n",
        "\n",
        "where:\n",
        "R2 => The R2 of the model\n",
        "n => The number of observations\n",
        "k => The number of predictor variables\n"
      ]
    },
    {
      "cell_type": "code",
      "execution_count": 44,
      "metadata": {
        "colab": {
          "base_uri": "https://localhost:8080/"
        },
        "id": "zSJ9p-RfttZ1",
        "outputId": "0cfec35a-79b3-48c2-d0cc-83c4a246b464"
      },
      "outputs": [
        {
          "name": "stdout",
          "output_type": "stream",
          "text": [
            "0.6221819557936539\n"
          ]
        }
      ],
      "source": [
        "#  More performace metrics\n",
        "#  R square and adjusted R square\n",
        "# Adjusted R square will always be less than R2\n",
        "\n",
        "from sklearn.metrics import r2_score\n",
        "score = r2_score(y_test, reg_pred)\n",
        "print(score)\n",
        "# The more it is towrard one, the more better score we get\n",
        "\n"
      ]
    },
    {
      "cell_type": "code",
      "execution_count": 45,
      "metadata": {
        "colab": {
          "base_uri": "https://localhost:8080/"
        },
        "id": "Z7BoJ6z2vaP5",
        "outputId": "1234eef2-3a46-4652-a633-7a3bbf108020"
      },
      "outputs": [
        {
          "data": {
            "text/plain": [
              "0.604506257819088"
            ]
          },
          "execution_count": 45,
          "metadata": {},
          "output_type": "execute_result"
        }
      ],
      "source": [
        "# Display adjusted R-squared\n",
        "# It is always be less than R-square\n",
        "\n",
        "1 - (1-score)*(len(y_test)-1)/(len(y_test)-X_test.shape[1] - 1)"
      ]
    },
    {
      "cell_type": "markdown",
      "metadata": {
        "id": "wtYDrx1UiSv3"
      },
      "source": [
        "**New Data Prediction**"
      ]
    },
    {
      "cell_type": "code",
      "execution_count": 46,
      "metadata": {
        "colab": {
          "base_uri": "https://localhost:8080/",
          "height": 423
        },
        "id": "sr-NAXNU9GEV",
        "outputId": "784ba14e-5f16-4d63-f5ff-45e5bcf0b728"
      },
      "outputs": [
        {
          "data": {
            "text/html": [
              "<div>\n",
              "<style scoped>\n",
              "    .dataframe tbody tr th:only-of-type {\n",
              "        vertical-align: middle;\n",
              "    }\n",
              "\n",
              "    .dataframe tbody tr th {\n",
              "        vertical-align: top;\n",
              "    }\n",
              "\n",
              "    .dataframe thead th {\n",
              "        text-align: right;\n",
              "    }\n",
              "</style>\n",
              "<table border=\"1\" class=\"dataframe\">\n",
              "  <thead>\n",
              "    <tr style=\"text-align: right;\">\n",
              "      <th></th>\n",
              "      <th>MedInc</th>\n",
              "      <th>HouseAge</th>\n",
              "      <th>AveRooms</th>\n",
              "      <th>AveBedrms</th>\n",
              "      <th>Population</th>\n",
              "      <th>AveOccup</th>\n",
              "      <th>Latitude</th>\n",
              "      <th>Longitude</th>\n",
              "    </tr>\n",
              "  </thead>\n",
              "  <tbody>\n",
              "    <tr>\n",
              "      <th>0</th>\n",
              "      <td>8.3252</td>\n",
              "      <td>41.0</td>\n",
              "      <td>6.984127</td>\n",
              "      <td>1.023810</td>\n",
              "      <td>322.0</td>\n",
              "      <td>2.555556</td>\n",
              "      <td>37.88</td>\n",
              "      <td>-122.23</td>\n",
              "    </tr>\n",
              "    <tr>\n",
              "      <th>1</th>\n",
              "      <td>8.3014</td>\n",
              "      <td>21.0</td>\n",
              "      <td>6.238137</td>\n",
              "      <td>0.971880</td>\n",
              "      <td>2401.0</td>\n",
              "      <td>2.109842</td>\n",
              "      <td>37.86</td>\n",
              "      <td>-122.22</td>\n",
              "    </tr>\n",
              "    <tr>\n",
              "      <th>2</th>\n",
              "      <td>7.2574</td>\n",
              "      <td>52.0</td>\n",
              "      <td>8.288136</td>\n",
              "      <td>1.073446</td>\n",
              "      <td>496.0</td>\n",
              "      <td>2.802260</td>\n",
              "      <td>37.85</td>\n",
              "      <td>-122.24</td>\n",
              "    </tr>\n",
              "    <tr>\n",
              "      <th>3</th>\n",
              "      <td>5.6431</td>\n",
              "      <td>52.0</td>\n",
              "      <td>5.817352</td>\n",
              "      <td>1.073059</td>\n",
              "      <td>558.0</td>\n",
              "      <td>2.547945</td>\n",
              "      <td>37.85</td>\n",
              "      <td>-122.25</td>\n",
              "    </tr>\n",
              "    <tr>\n",
              "      <th>4</th>\n",
              "      <td>3.8462</td>\n",
              "      <td>52.0</td>\n",
              "      <td>6.281853</td>\n",
              "      <td>1.081081</td>\n",
              "      <td>565.0</td>\n",
              "      <td>2.181467</td>\n",
              "      <td>37.85</td>\n",
              "      <td>-122.25</td>\n",
              "    </tr>\n",
              "    <tr>\n",
              "      <th>...</th>\n",
              "      <td>...</td>\n",
              "      <td>...</td>\n",
              "      <td>...</td>\n",
              "      <td>...</td>\n",
              "      <td>...</td>\n",
              "      <td>...</td>\n",
              "      <td>...</td>\n",
              "      <td>...</td>\n",
              "    </tr>\n",
              "    <tr>\n",
              "      <th>20635</th>\n",
              "      <td>1.5603</td>\n",
              "      <td>25.0</td>\n",
              "      <td>5.045455</td>\n",
              "      <td>1.133333</td>\n",
              "      <td>845.0</td>\n",
              "      <td>2.560606</td>\n",
              "      <td>39.48</td>\n",
              "      <td>-121.09</td>\n",
              "    </tr>\n",
              "    <tr>\n",
              "      <th>20636</th>\n",
              "      <td>2.5568</td>\n",
              "      <td>18.0</td>\n",
              "      <td>6.114035</td>\n",
              "      <td>1.315789</td>\n",
              "      <td>356.0</td>\n",
              "      <td>3.122807</td>\n",
              "      <td>39.49</td>\n",
              "      <td>-121.21</td>\n",
              "    </tr>\n",
              "    <tr>\n",
              "      <th>20637</th>\n",
              "      <td>1.7000</td>\n",
              "      <td>17.0</td>\n",
              "      <td>5.205543</td>\n",
              "      <td>1.120092</td>\n",
              "      <td>1007.0</td>\n",
              "      <td>2.325635</td>\n",
              "      <td>39.43</td>\n",
              "      <td>-121.22</td>\n",
              "    </tr>\n",
              "    <tr>\n",
              "      <th>20638</th>\n",
              "      <td>1.8672</td>\n",
              "      <td>18.0</td>\n",
              "      <td>5.329513</td>\n",
              "      <td>1.171920</td>\n",
              "      <td>741.0</td>\n",
              "      <td>2.123209</td>\n",
              "      <td>39.43</td>\n",
              "      <td>-121.32</td>\n",
              "    </tr>\n",
              "    <tr>\n",
              "      <th>20639</th>\n",
              "      <td>2.3886</td>\n",
              "      <td>16.0</td>\n",
              "      <td>5.254717</td>\n",
              "      <td>1.162264</td>\n",
              "      <td>1387.0</td>\n",
              "      <td>2.616981</td>\n",
              "      <td>39.37</td>\n",
              "      <td>-121.24</td>\n",
              "    </tr>\n",
              "  </tbody>\n",
              "</table>\n",
              "<p>20640 rows × 8 columns</p>\n",
              "</div>"
            ],
            "text/plain": [
              "       MedInc  HouseAge  AveRooms  AveBedrms  Population  AveOccup  Latitude  \\\n",
              "0      8.3252      41.0  6.984127   1.023810       322.0  2.555556     37.88   \n",
              "1      8.3014      21.0  6.238137   0.971880      2401.0  2.109842     37.86   \n",
              "2      7.2574      52.0  8.288136   1.073446       496.0  2.802260     37.85   \n",
              "3      5.6431      52.0  5.817352   1.073059       558.0  2.547945     37.85   \n",
              "4      3.8462      52.0  6.281853   1.081081       565.0  2.181467     37.85   \n",
              "...       ...       ...       ...        ...         ...       ...       ...   \n",
              "20635  1.5603      25.0  5.045455   1.133333       845.0  2.560606     39.48   \n",
              "20636  2.5568      18.0  6.114035   1.315789       356.0  3.122807     39.49   \n",
              "20637  1.7000      17.0  5.205543   1.120092      1007.0  2.325635     39.43   \n",
              "20638  1.8672      18.0  5.329513   1.171920       741.0  2.123209     39.43   \n",
              "20639  2.3886      16.0  5.254717   1.162264      1387.0  2.616981     39.37   \n",
              "\n",
              "       Longitude  \n",
              "0        -122.23  \n",
              "1        -122.22  \n",
              "2        -122.24  \n",
              "3        -122.25  \n",
              "4        -122.25  \n",
              "...          ...  \n",
              "20635    -121.09  \n",
              "20636    -121.21  \n",
              "20637    -121.22  \n",
              "20638    -121.32  \n",
              "20639    -121.24  \n",
              "\n",
              "[20640 rows x 8 columns]"
            ]
          },
          "execution_count": 46,
          "metadata": {},
          "output_type": "execute_result"
        }
      ],
      "source": [
        "whole_housing.data"
      ]
    },
    {
      "cell_type": "code",
      "execution_count": 47,
      "metadata": {
        "id": "CBvpcDK1j7pB"
      },
      "outputs": [],
      "source": [
        "# What happens here:\n",
        "\n",
        "# iloc[0] → selects the first row (as a pandas Series).\n",
        "# .values → converts it to NumPy array.\n",
        "# .reshape(1, -1) → makes it a 2D row vector (1, 8).\n",
        "\n",
        "row0 = whole_housing.data.iloc[0]\n",
        "row0_reshaped = row0.values.reshape(1, -1)"
      ]
    },
    {
      "cell_type": "code",
      "execution_count": 48,
      "metadata": {
        "colab": {
          "base_uri": "https://localhost:8080/"
        },
        "id": "j065iHfRuuP-",
        "outputId": "21bcbc45-b4e9-4100-dd72-dd0c42c7a7cf"
      },
      "outputs": [
        {
          "data": {
            "text/plain": [
              "array([[   8.3252    ,   41.        ,    6.98412698,    1.02380952,\n",
              "         322.        ,    2.55555556,   37.88      , -122.23      ]])"
            ]
          },
          "execution_count": 48,
          "metadata": {},
          "output_type": "execute_result"
        }
      ],
      "source": [
        "row0_reshaped"
      ]
    },
    {
      "cell_type": "code",
      "execution_count": 49,
      "metadata": {
        "colab": {
          "base_uri": "https://localhost:8080/"
        },
        "id": "DhRGnqJlBTor",
        "outputId": "eb92b0df-83cf-4937-da04-6dfc09f7a90b"
      },
      "outputs": [
        {
          "name": "stderr",
          "output_type": "stream",
          "text": [
            "C:\\Users\\hii\\AppData\\Roaming\\Python\\Python312\\site-packages\\sklearn\\utils\\validation.py:2749: UserWarning: X does not have valid feature names, but StandardScaler was fitted with feature names\n",
            "  warnings.warn(\n"
          ]
        },
        {
          "data": {
            "text/plain": [
              "array([[ 2.08976654,  0.92654077,  0.70939674, -0.24246311, -1.00761685,\n",
              "        -0.5373065 ,  1.12528556, -1.39009901]])"
            ]
          },
          "execution_count": 49,
          "metadata": {},
          "output_type": "execute_result"
        }
      ],
      "source": [
        "# Transformation of new data\n",
        "\n",
        "scaler.transform(row0.values.reshape(1, -1))"
      ]
    },
    {
      "cell_type": "code",
      "execution_count": 50,
      "metadata": {
        "colab": {
          "base_uri": "https://localhost:8080/"
        },
        "id": "wgcQQI8R9DY_",
        "outputId": "a8ae521a-7045-444b-9984-1d3b85d59dcb"
      },
      "outputs": [
        {
          "data": {
            "text/plain": [
              "array([96.71590875])"
            ]
          },
          "execution_count": 50,
          "metadata": {},
          "output_type": "execute_result"
        }
      ],
      "source": [
        "regression.predict(row0.values.reshape(1, -1))"
      ]
    },
    {
      "cell_type": "markdown",
      "metadata": {
        "id": "7xU0rYEtBvv0"
      },
      "source": [
        "**Pickling the Model File for Deployment**"
      ]
    },
    {
      "cell_type": "code",
      "execution_count": 51,
      "metadata": {
        "id": "awazmbMxBD8w"
      },
      "outputs": [],
      "source": [
        "import pickle"
      ]
    },
    {
      "cell_type": "code",
      "execution_count": 52,
      "metadata": {
        "id": "I3DSOKp1B2Jt"
      },
      "outputs": [],
      "source": [
        "pickle.dump(regression, open('regmodel.pkl', 'wb'))\n"
      ]
    },
    {
      "cell_type": "code",
      "execution_count": 53,
      "metadata": {
        "id": "ilzEHiGPI4a4"
      },
      "outputs": [],
      "source": [
        "pickled_model = pickle.load(open('regmodel.pkl', 'rb'))"
      ]
    },
    {
      "cell_type": "code",
      "execution_count": 54,
      "metadata": {
        "colab": {
          "base_uri": "https://localhost:8080/"
        },
        "id": "UvhoBb-KB4Cx",
        "outputId": "2aa7822a-8add-4d2e-cbc0-25b2e68b98a7"
      },
      "outputs": [
        {
          "name": "stderr",
          "output_type": "stream",
          "text": [
            "C:\\Users\\hii\\AppData\\Roaming\\Python\\Python312\\site-packages\\sklearn\\utils\\validation.py:2749: UserWarning: X does not have valid feature names, but StandardScaler was fitted with feature names\n",
            "  warnings.warn(\n"
          ]
        },
        {
          "data": {
            "text/plain": [
              "array([3.94406225])"
            ]
          },
          "execution_count": 54,
          "metadata": {},
          "output_type": "execute_result"
        }
      ],
      "source": [
        "# Prediction\n",
        "pickled_model.predict(scaler.transform(row0.values.reshape(1, -1)))"
      ]
    },
    {
      "cell_type": "code",
      "execution_count": null,
      "metadata": {
        "id": "i7YX9FxyIz-Z"
      },
      "outputs": [],
      "source": []
    }
  ],
  "metadata": {
    "colab": {
      "provenance": []
    },
    "kernelspec": {
      "display_name": "base",
      "language": "python",
      "name": "python3"
    },
    "language_info": {
      "codemirror_mode": {
        "name": "ipython",
        "version": 3
      },
      "file_extension": ".py",
      "mimetype": "text/x-python",
      "name": "python",
      "nbconvert_exporter": "python",
      "pygments_lexer": "ipython3",
      "version": "3.12.4"
    }
  },
  "nbformat": 4,
  "nbformat_minor": 0
}
